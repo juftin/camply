{
 "cells": [
  {
   "cell_type": "code",
   "execution_count": 1,
   "id": "5abfb3fb-74e9-40f1-9b8a-756b1ad0050d",
   "metadata": {},
   "outputs": [
    {
     "data": {
      "text/plain": [
       "PosixPath('/Users/juftin/git/camply')"
      ]
     },
     "execution_count": 1,
     "metadata": {},
     "output_type": "execute_result"
    }
   ],
   "source": [
    "import sys\n",
    "import pathlib\n",
    "\n",
    "this_dir = pathlib.Path().resolve()\n",
    "sys.path.insert(0, str(this_dir))\n",
    "this_dir"
   ]
  },
  {
   "cell_type": "code",
   "execution_count": 2,
   "id": "c75fed7f-6f94-441d-ac35-2eb17fe34b41",
   "metadata": {},
   "outputs": [],
   "source": [
    "from datetime import datetime\n",
    "import logging\n",
    "import os\n",
    "import json\n",
    "from typing import List\n",
    "\n",
    "from rich import print\n",
    "from rich.logging import RichHandler\n",
    "\n",
    "from camply.containers import AvailableCampsite, SearchWindow, CampgroundFacility, CamplyModel\n",
    "from camply.search import SearchRecreationDotGov\n",
    "from camply.providers import RecreationDotGov"
   ]
  },
  {
   "cell_type": "code",
   "execution_count": 3,
   "id": "095b62d6-8e40-4d9d-875c-f6aedebc09fa",
   "metadata": {},
   "outputs": [],
   "source": [
    "logging_handler = RichHandler(\n",
    "    level=logging.getLevelName(os.getenv(\"LOG_LEVEL\", \"DEBUG\").upper()),\n",
    "    rich_tracebacks=True,\n",
    "    omit_repeated_times=False,\n",
    "    show_path=False,\n",
    ")\n",
    "logging.basicConfig(\n",
    "    format=\"%(message)s\",\n",
    "    level=logging.NOTSET,\n",
    "    datefmt=\"[%Y-%m-%d %H:%M:%S]\",\n",
    "    handlers=[\n",
    "        logging_handler,\n",
    "    ],\n",
    ")\n",
    "logger = logging.getLogger(__name__)"
   ]
  },
  {
   "cell_type": "code",
   "execution_count": 4,
   "id": "c793d9e5-a6e2-4db5-8bed-d935d2448792",
   "metadata": {},
   "outputs": [],
   "source": [
    "month_of_june = SearchWindow(start_date=datetime(year=2022, month=8, day=1),\n",
    "                             end_date=datetime(year=2022, month=9, day=1))"
   ]
  },
  {
   "cell_type": "code",
   "execution_count": 5,
   "id": "bca4789a-30c0-4e54-b66c-6a8b83259f23",
   "metadata": {},
   "outputs": [],
   "source": [
    "rdg = RecreationDotGov()"
   ]
  },
  {
   "cell_type": "code",
   "execution_count": 18,
   "id": "ed30c8af-9fbb-4531-abee-e0fff5c7f5ea",
   "metadata": {},
   "outputs": [
    {
     "data": {
      "text/html": [
       "<pre style=\"white-space:pre;overflow-x:auto;line-height:normal;font-family:Menlo,'DejaVu Sans Mono',consolas,'Courier New',monospace\"><span style=\"color: #7fbfbf; text-decoration-color: #7fbfbf\">[2022-06-27 22:31:07] </span><span style=\"color: #000080; text-decoration-color: #000080\">INFO    </span> Retrieving Facility Information for Recreation Area ID:       \n",
       "<span style=\"color: #7fbfbf; text-decoration-color: #7fbfbf\">                      </span>         `<span style=\"color: #008080; text-decoration-color: #008080; font-weight: bold\">2725</span>`.                                                       \n",
       "</pre>\n"
      ],
      "text/plain": [
       "\u001b[2;36m[2022-06-27 22:31:07]\u001b[0m\u001b[2;36m \u001b[0m\u001b[34mINFO    \u001b[0m Retrieving Facility Information for Recreation Area ID:       \n",
       "\u001b[2;36m                      \u001b[0m         `\u001b[1;36m2725\u001b[0m`.                                                       \n"
      ]
     },
     "metadata": {},
     "output_type": "display_data"
    },
    {
     "data": {
      "text/html": [
       "<pre style=\"white-space:pre;overflow-x:auto;line-height:normal;font-family:Menlo,'DejaVu Sans Mono',consolas,'Courier New',monospace\"><span style=\"color: #7fbfbf; text-decoration-color: #7fbfbf\">[2022-06-27 22:31:07] </span><span style=\"color: #008000; text-decoration-color: #008000\">DEBUG   </span> Starting new HTTPS connection <span style=\"font-weight: bold\">(</span><span style=\"color: #008080; text-decoration-color: #008080; font-weight: bold\">1</span><span style=\"font-weight: bold\">)</span>: ridb.recreation.gov:<span style=\"color: #008080; text-decoration-color: #008080; font-weight: bold\">443</span>    \n",
       "</pre>\n"
      ],
      "text/plain": [
       "\u001b[2;36m[2022-06-27 22:31:07]\u001b[0m\u001b[2;36m \u001b[0m\u001b[32mDEBUG   \u001b[0m Starting new HTTPS connection \u001b[1m(\u001b[0m\u001b[1;36m1\u001b[0m\u001b[1m)\u001b[0m: ridb.recreation.gov:\u001b[1;36m443\u001b[0m    \n"
      ]
     },
     "metadata": {},
     "output_type": "display_data"
    },
    {
     "data": {
      "text/html": [
       "<pre style=\"white-space:pre;overflow-x:auto;line-height:normal;font-family:Menlo,'DejaVu Sans Mono',consolas,'Courier New',monospace\"><span style=\"color: #7fbfbf; text-decoration-color: #7fbfbf\">[2022-06-27 22:31:09] </span><span style=\"color: #008000; text-decoration-color: #008000\">DEBUG   </span> <span style=\"color: #0000ff; text-decoration-color: #0000ff; text-decoration: underline\">https://ridb.recreation.gov:443</span> <span style=\"color: #008000; text-decoration-color: #008000\">\"</span><span style=\"color: #808000; text-decoration-color: #808000; font-weight: bold\">GET</span><span style=\"color: #008000; text-decoration-color: #008000\"> </span>                         \n",
       "<span style=\"color: #7fbfbf; text-decoration-color: #7fbfbf\">                      </span>         <span style=\"color: #008000; text-decoration-color: #008000\">/api/v1/recareas/2725/facilities?full=true&amp;offset=0 HTTP/1.1\"</span> \n",
       "<span style=\"color: #7fbfbf; text-decoration-color: #7fbfbf\">                      </span>         <span style=\"color: #008080; text-decoration-color: #008080; font-weight: bold\">200</span> <span style=\"color: #800080; text-decoration-color: #800080; font-style: italic\">None</span>                                                      \n",
       "</pre>\n"
      ],
      "text/plain": [
       "\u001b[2;36m[2022-06-27 22:31:09]\u001b[0m\u001b[2;36m \u001b[0m\u001b[32mDEBUG   \u001b[0m \u001b[4;94mhttps://ridb.recreation.gov:443\u001b[0m \u001b[32m\"\u001b[0m\u001b[1;33mGET\u001b[0m\u001b[32m \u001b[0m                         \n",
       "\u001b[2;36m                      \u001b[0m         \u001b[32m/api/v1/recareas/2725/facilities?\u001b[0m\u001b[32mfull\u001b[0m\u001b[32m=\u001b[0m\u001b[32mtrue\u001b[0m\u001b[32m&\u001b[0m\u001b[32moffset\u001b[0m\u001b[32m=\u001b[0m\u001b[32m0\u001b[0m\u001b[32m HTTP/1.1\"\u001b[0m \n",
       "\u001b[2;36m                      \u001b[0m         \u001b[1;36m200\u001b[0m \u001b[3;35mNone\u001b[0m                                                      \n"
      ]
     },
     "metadata": {},
     "output_type": "display_data"
    },
    {
     "data": {
      "text/html": [
       "<pre style=\"white-space:pre;overflow-x:auto;line-height:normal;font-family:Menlo,'DejaVu Sans Mono',consolas,'Courier New',monospace\"><span style=\"color: #7fbfbf; text-decoration-color: #7fbfbf\">[2022-06-27 22:31:09] </span><span style=\"color: #000080; text-decoration-color: #000080\">INFO    </span> <span style=\"color: #008080; text-decoration-color: #008080; font-weight: bold\">6</span> Matching Campgrounds Found                                  \n",
       "</pre>\n"
      ],
      "text/plain": [
       "\u001b[2;36m[2022-06-27 22:31:09]\u001b[0m\u001b[2;36m \u001b[0m\u001b[34mINFO    \u001b[0m \u001b[1;36m6\u001b[0m Matching Campgrounds Found                                  \n"
      ]
     },
     "metadata": {},
     "output_type": "display_data"
    },
    {
     "data": {
      "text/html": [
       "<pre style=\"white-space:pre;overflow-x:auto;line-height:normal;font-family:Menlo,'DejaVu Sans Mono',consolas,'Courier New',monospace\"><span style=\"color: #7fbfbf; text-decoration-color: #7fbfbf\">[2022-06-27 22:31:09] </span><span style=\"color: #000080; text-decoration-color: #000080\">INFO    </span> ⛰  Glacier National Park, MT <span style=\"font-weight: bold\">(</span>#<span style=\"color: #008080; text-decoration-color: #008080; font-weight: bold\">2725</span><span style=\"font-weight: bold\">)</span> - 🏕  Apgar Campground    \n",
       "<span style=\"color: #7fbfbf; text-decoration-color: #7fbfbf\">                      </span>         <span style=\"font-weight: bold\">(</span>#<span style=\"color: #008080; text-decoration-color: #008080; font-weight: bold\">10171274</span><span style=\"font-weight: bold\">)</span>                                                   \n",
       "</pre>\n"
      ],
      "text/plain": [
       "\u001b[2;36m[2022-06-27 22:31:09]\u001b[0m\u001b[2;36m \u001b[0m\u001b[34mINFO    \u001b[0m ⛰  Glacier National Park, MT \u001b[1m(\u001b[0m#\u001b[1;36m2725\u001b[0m\u001b[1m)\u001b[0m - 🏕  Apgar Campground    \n",
       "\u001b[2;36m                      \u001b[0m         \u001b[1m(\u001b[0m#\u001b[1;36m10171274\u001b[0m\u001b[1m)\u001b[0m                                                   \n"
      ]
     },
     "metadata": {},
     "output_type": "display_data"
    },
    {
     "data": {
      "text/html": [
       "<pre style=\"white-space:pre;overflow-x:auto;line-height:normal;font-family:Menlo,'DejaVu Sans Mono',consolas,'Courier New',monospace\"><span style=\"color: #7fbfbf; text-decoration-color: #7fbfbf\">[2022-06-27 22:31:09] </span><span style=\"color: #000080; text-decoration-color: #000080\">INFO    </span> ⛰  Glacier National Park, MT <span style=\"font-weight: bold\">(</span>#<span style=\"color: #008080; text-decoration-color: #008080; font-weight: bold\">2725</span><span style=\"font-weight: bold\">)</span> - 🏕  Apgar Group Sites   \n",
       "<span style=\"color: #7fbfbf; text-decoration-color: #7fbfbf\">                      </span>         <span style=\"font-weight: bold\">(</span>#<span style=\"color: #008080; text-decoration-color: #008080; font-weight: bold\">234669</span><span style=\"font-weight: bold\">)</span>                                                     \n",
       "</pre>\n"
      ],
      "text/plain": [
       "\u001b[2;36m[2022-06-27 22:31:09]\u001b[0m\u001b[2;36m \u001b[0m\u001b[34mINFO    \u001b[0m ⛰  Glacier National Park, MT \u001b[1m(\u001b[0m#\u001b[1;36m2725\u001b[0m\u001b[1m)\u001b[0m - 🏕  Apgar Group Sites   \n",
       "\u001b[2;36m                      \u001b[0m         \u001b[1m(\u001b[0m#\u001b[1;36m234669\u001b[0m\u001b[1m)\u001b[0m                                                     \n"
      ]
     },
     "metadata": {},
     "output_type": "display_data"
    },
    {
     "data": {
      "text/html": [
       "<pre style=\"white-space:pre;overflow-x:auto;line-height:normal;font-family:Menlo,'DejaVu Sans Mono',consolas,'Courier New',monospace\"><span style=\"color: #7fbfbf; text-decoration-color: #7fbfbf\">[2022-06-27 22:31:09] </span><span style=\"color: #000080; text-decoration-color: #000080\">INFO    </span> ⛰  Glacier National Park, MT <span style=\"font-weight: bold\">(</span>#<span style=\"color: #008080; text-decoration-color: #008080; font-weight: bold\">2725</span><span style=\"font-weight: bold\">)</span> - 🏕  Fish Creek          \n",
       "<span style=\"color: #7fbfbf; text-decoration-color: #7fbfbf\">                      </span>         Campground <span style=\"font-weight: bold\">(</span>#<span style=\"color: #008080; text-decoration-color: #008080; font-weight: bold\">232493</span><span style=\"font-weight: bold\">)</span>                                          \n",
       "</pre>\n"
      ],
      "text/plain": [
       "\u001b[2;36m[2022-06-27 22:31:09]\u001b[0m\u001b[2;36m \u001b[0m\u001b[34mINFO    \u001b[0m ⛰  Glacier National Park, MT \u001b[1m(\u001b[0m#\u001b[1;36m2725\u001b[0m\u001b[1m)\u001b[0m - 🏕  Fish Creek          \n",
       "\u001b[2;36m                      \u001b[0m         Campground \u001b[1m(\u001b[0m#\u001b[1;36m232493\u001b[0m\u001b[1m)\u001b[0m                                          \n"
      ]
     },
     "metadata": {},
     "output_type": "display_data"
    },
    {
     "data": {
      "text/html": [
       "<pre style=\"white-space:pre;overflow-x:auto;line-height:normal;font-family:Menlo,'DejaVu Sans Mono',consolas,'Courier New',monospace\"><span style=\"color: #7fbfbf; text-decoration-color: #7fbfbf\">[2022-06-27 22:31:09] </span><span style=\"color: #000080; text-decoration-color: #000080\">INFO    </span> ⛰  Glacier National Park, MT <span style=\"font-weight: bold\">(</span>#<span style=\"color: #008080; text-decoration-color: #008080; font-weight: bold\">2725</span><span style=\"font-weight: bold\">)</span> - 🏕  Many Glacier        \n",
       "<span style=\"color: #7fbfbf; text-decoration-color: #7fbfbf\">                      </span>         Campground <span style=\"font-weight: bold\">(</span>#<span style=\"color: #008080; text-decoration-color: #008080; font-weight: bold\">251869</span><span style=\"font-weight: bold\">)</span>                                          \n",
       "</pre>\n"
      ],
      "text/plain": [
       "\u001b[2;36m[2022-06-27 22:31:09]\u001b[0m\u001b[2;36m \u001b[0m\u001b[34mINFO    \u001b[0m ⛰  Glacier National Park, MT \u001b[1m(\u001b[0m#\u001b[1;36m2725\u001b[0m\u001b[1m)\u001b[0m - 🏕  Many Glacier        \n",
       "\u001b[2;36m                      \u001b[0m         Campground \u001b[1m(\u001b[0m#\u001b[1;36m251869\u001b[0m\u001b[1m)\u001b[0m                                          \n"
      ]
     },
     "metadata": {},
     "output_type": "display_data"
    },
    {
     "data": {
      "text/html": [
       "<pre style=\"white-space:pre;overflow-x:auto;line-height:normal;font-family:Menlo,'DejaVu Sans Mono',consolas,'Courier New',monospace\"><span style=\"color: #7fbfbf; text-decoration-color: #7fbfbf\">[2022-06-27 22:31:09] </span><span style=\"color: #000080; text-decoration-color: #000080\">INFO    </span> ⛰  Glacier National Park, MT <span style=\"font-weight: bold\">(</span>#<span style=\"color: #008080; text-decoration-color: #008080; font-weight: bold\">2725</span><span style=\"font-weight: bold\">)</span> - 🏕  Sprague Creek       \n",
       "<span style=\"color: #7fbfbf; text-decoration-color: #7fbfbf\">                      </span>         Campground <span style=\"font-weight: bold\">(</span>#<span style=\"color: #008080; text-decoration-color: #008080; font-weight: bold\">258795</span><span style=\"font-weight: bold\">)</span>                                          \n",
       "</pre>\n"
      ],
      "text/plain": [
       "\u001b[2;36m[2022-06-27 22:31:09]\u001b[0m\u001b[2;36m \u001b[0m\u001b[34mINFO    \u001b[0m ⛰  Glacier National Park, MT \u001b[1m(\u001b[0m#\u001b[1;36m2725\u001b[0m\u001b[1m)\u001b[0m - 🏕  Sprague Creek       \n",
       "\u001b[2;36m                      \u001b[0m         Campground \u001b[1m(\u001b[0m#\u001b[1;36m258795\u001b[0m\u001b[1m)\u001b[0m                                          \n"
      ]
     },
     "metadata": {},
     "output_type": "display_data"
    },
    {
     "data": {
      "text/html": [
       "<pre style=\"white-space:pre;overflow-x:auto;line-height:normal;font-family:Menlo,'DejaVu Sans Mono',consolas,'Courier New',monospace\"><span style=\"color: #7fbfbf; text-decoration-color: #7fbfbf\">[2022-06-27 22:31:09] </span><span style=\"color: #000080; text-decoration-color: #000080\">INFO    </span> ⛰  Glacier National Park, MT <span style=\"font-weight: bold\">(</span>#<span style=\"color: #008080; text-decoration-color: #008080; font-weight: bold\">2725</span><span style=\"font-weight: bold\">)</span> - 🏕  St. Mary Campground \n",
       "<span style=\"color: #7fbfbf; text-decoration-color: #7fbfbf\">                      </span>         <span style=\"font-weight: bold\">(</span>#<span style=\"color: #008080; text-decoration-color: #008080; font-weight: bold\">232492</span><span style=\"font-weight: bold\">)</span>                                                     \n",
       "</pre>\n"
      ],
      "text/plain": [
       "\u001b[2;36m[2022-06-27 22:31:09]\u001b[0m\u001b[2;36m \u001b[0m\u001b[34mINFO    \u001b[0m ⛰  Glacier National Park, MT \u001b[1m(\u001b[0m#\u001b[1;36m2725\u001b[0m\u001b[1m)\u001b[0m - 🏕  St. Mary Campground \n",
       "\u001b[2;36m                      \u001b[0m         \u001b[1m(\u001b[0m#\u001b[1;36m232492\u001b[0m\u001b[1m)\u001b[0m                                                     \n"
      ]
     },
     "metadata": {},
     "output_type": "display_data"
    },
    {
     "data": {
      "text/html": [
       "<pre style=\"white-space:pre;overflow-x:auto;line-height:normal;font-family:Menlo,'DejaVu Sans Mono',consolas,'Courier New',monospace\"><span style=\"color: #7fbfbf; text-decoration-color: #7fbfbf\">[2022-06-27 22:31:09] </span><span style=\"color: #000080; text-decoration-color: #000080\">INFO    </span> Retrieving Facility Information for Recreation Area ID:       \n",
       "<span style=\"color: #7fbfbf; text-decoration-color: #7fbfbf\">                      </span>         `<span style=\"color: #008080; text-decoration-color: #008080; font-weight: bold\">2991</span>`.                                                       \n",
       "</pre>\n"
      ],
      "text/plain": [
       "\u001b[2;36m[2022-06-27 22:31:09]\u001b[0m\u001b[2;36m \u001b[0m\u001b[34mINFO    \u001b[0m Retrieving Facility Information for Recreation Area ID:       \n",
       "\u001b[2;36m                      \u001b[0m         `\u001b[1;36m2991\u001b[0m`.                                                       \n"
      ]
     },
     "metadata": {},
     "output_type": "display_data"
    },
    {
     "data": {
      "text/html": [
       "<pre style=\"white-space:pre;overflow-x:auto;line-height:normal;font-family:Menlo,'DejaVu Sans Mono',consolas,'Courier New',monospace\"><span style=\"color: #7fbfbf; text-decoration-color: #7fbfbf\">[2022-06-27 22:31:09] </span><span style=\"color: #008000; text-decoration-color: #008000\">DEBUG   </span> Starting new HTTPS connection <span style=\"font-weight: bold\">(</span><span style=\"color: #008080; text-decoration-color: #008080; font-weight: bold\">1</span><span style=\"font-weight: bold\">)</span>: ridb.recreation.gov:<span style=\"color: #008080; text-decoration-color: #008080; font-weight: bold\">443</span>    \n",
       "</pre>\n"
      ],
      "text/plain": [
       "\u001b[2;36m[2022-06-27 22:31:09]\u001b[0m\u001b[2;36m \u001b[0m\u001b[32mDEBUG   \u001b[0m Starting new HTTPS connection \u001b[1m(\u001b[0m\u001b[1;36m1\u001b[0m\u001b[1m)\u001b[0m: ridb.recreation.gov:\u001b[1;36m443\u001b[0m    \n"
      ]
     },
     "metadata": {},
     "output_type": "display_data"
    },
    {
     "data": {
      "text/html": [
       "<pre style=\"white-space:pre;overflow-x:auto;line-height:normal;font-family:Menlo,'DejaVu Sans Mono',consolas,'Courier New',monospace\"><span style=\"color: #7fbfbf; text-decoration-color: #7fbfbf\">[2022-06-27 22:31:11] </span><span style=\"color: #008000; text-decoration-color: #008000\">DEBUG   </span> <span style=\"color: #0000ff; text-decoration-color: #0000ff; text-decoration: underline\">https://ridb.recreation.gov:443</span> <span style=\"color: #008000; text-decoration-color: #008000\">\"</span><span style=\"color: #808000; text-decoration-color: #808000; font-weight: bold\">GET</span><span style=\"color: #008000; text-decoration-color: #008000\"> </span>                         \n",
       "<span style=\"color: #7fbfbf; text-decoration-color: #7fbfbf\">                      </span>         <span style=\"color: #008000; text-decoration-color: #008000\">/api/v1/recareas/2991/facilities?full=true&amp;offset=0 HTTP/1.1\"</span> \n",
       "<span style=\"color: #7fbfbf; text-decoration-color: #7fbfbf\">                      </span>         <span style=\"color: #008080; text-decoration-color: #008080; font-weight: bold\">200</span> <span style=\"color: #800080; text-decoration-color: #800080; font-style: italic\">None</span>                                                      \n",
       "</pre>\n"
      ],
      "text/plain": [
       "\u001b[2;36m[2022-06-27 22:31:11]\u001b[0m\u001b[2;36m \u001b[0m\u001b[32mDEBUG   \u001b[0m \u001b[4;94mhttps://ridb.recreation.gov:443\u001b[0m \u001b[32m\"\u001b[0m\u001b[1;33mGET\u001b[0m\u001b[32m \u001b[0m                         \n",
       "\u001b[2;36m                      \u001b[0m         \u001b[32m/api/v1/recareas/2991/facilities?\u001b[0m\u001b[32mfull\u001b[0m\u001b[32m=\u001b[0m\u001b[32mtrue\u001b[0m\u001b[32m&\u001b[0m\u001b[32moffset\u001b[0m\u001b[32m=\u001b[0m\u001b[32m0\u001b[0m\u001b[32m HTTP/1.1\"\u001b[0m \n",
       "\u001b[2;36m                      \u001b[0m         \u001b[1;36m200\u001b[0m \u001b[3;35mNone\u001b[0m                                                      \n"
      ]
     },
     "metadata": {},
     "output_type": "display_data"
    },
    {
     "data": {
      "text/html": [
       "<pre style=\"white-space:pre;overflow-x:auto;line-height:normal;font-family:Menlo,'DejaVu Sans Mono',consolas,'Courier New',monospace\"><span style=\"color: #7fbfbf; text-decoration-color: #7fbfbf\">[2022-06-27 22:31:11] </span><span style=\"color: #000080; text-decoration-color: #000080\">INFO    </span> <span style=\"color: #008080; text-decoration-color: #008080; font-weight: bold\">12</span> Matching Campgrounds Found                                 \n",
       "</pre>\n"
      ],
      "text/plain": [
       "\u001b[2;36m[2022-06-27 22:31:11]\u001b[0m\u001b[2;36m \u001b[0m\u001b[34mINFO    \u001b[0m \u001b[1;36m12\u001b[0m Matching Campgrounds Found                                 \n"
      ]
     },
     "metadata": {},
     "output_type": "display_data"
    },
    {
     "data": {
      "text/html": [
       "<pre style=\"white-space:pre;overflow-x:auto;line-height:normal;font-family:Menlo,'DejaVu Sans Mono',consolas,'Courier New',monospace\"><span style=\"color: #7fbfbf; text-decoration-color: #7fbfbf\">[2022-06-27 22:31:11] </span><span style=\"color: #000080; text-decoration-color: #000080\">INFO    </span> ⛰  Yosemite National Park, CA <span style=\"font-weight: bold\">(</span>#<span style=\"color: #008080; text-decoration-color: #008080; font-weight: bold\">2991</span><span style=\"font-weight: bold\">)</span> - 🏕  Bridalveil Creek   \n",
       "<span style=\"color: #7fbfbf; text-decoration-color: #7fbfbf\">                      </span>         Campground <span style=\"font-weight: bold\">(</span>#<span style=\"color: #008080; text-decoration-color: #008080; font-weight: bold\">232453</span><span style=\"font-weight: bold\">)</span>                                          \n",
       "</pre>\n"
      ],
      "text/plain": [
       "\u001b[2;36m[2022-06-27 22:31:11]\u001b[0m\u001b[2;36m \u001b[0m\u001b[34mINFO    \u001b[0m ⛰  Yosemite National Park, CA \u001b[1m(\u001b[0m#\u001b[1;36m2991\u001b[0m\u001b[1m)\u001b[0m - 🏕  Bridalveil Creek   \n",
       "\u001b[2;36m                      \u001b[0m         Campground \u001b[1m(\u001b[0m#\u001b[1;36m232453\u001b[0m\u001b[1m)\u001b[0m                                          \n"
      ]
     },
     "metadata": {},
     "output_type": "display_data"
    },
    {
     "data": {
      "text/html": [
       "<pre style=\"white-space:pre;overflow-x:auto;line-height:normal;font-family:Menlo,'DejaVu Sans Mono',consolas,'Courier New',monospace\"><span style=\"color: #7fbfbf; text-decoration-color: #7fbfbf\">[2022-06-27 22:31:11] </span><span style=\"color: #000080; text-decoration-color: #000080\">INFO    </span> ⛰  Yosemite National Park, CA <span style=\"font-weight: bold\">(</span>#<span style=\"color: #008080; text-decoration-color: #008080; font-weight: bold\">2991</span><span style=\"font-weight: bold\">)</span> - 🏕  Camp <span style=\"color: #008080; text-decoration-color: #008080; font-weight: bold\">4</span> <span style=\"font-weight: bold\">(</span>#<span style=\"color: #008080; text-decoration-color: #008080; font-weight: bold\">10004152</span><span style=\"font-weight: bold\">)</span> \n",
       "</pre>\n"
      ],
      "text/plain": [
       "\u001b[2;36m[2022-06-27 22:31:11]\u001b[0m\u001b[2;36m \u001b[0m\u001b[34mINFO    \u001b[0m ⛰  Yosemite National Park, CA \u001b[1m(\u001b[0m#\u001b[1;36m2991\u001b[0m\u001b[1m)\u001b[0m - 🏕  Camp \u001b[1;36m4\u001b[0m \u001b[1m(\u001b[0m#\u001b[1;36m10004152\u001b[0m\u001b[1m)\u001b[0m \n"
      ]
     },
     "metadata": {},
     "output_type": "display_data"
    },
    {
     "data": {
      "text/html": [
       "<pre style=\"white-space:pre;overflow-x:auto;line-height:normal;font-family:Menlo,'DejaVu Sans Mono',consolas,'Courier New',monospace\"><span style=\"color: #7fbfbf; text-decoration-color: #7fbfbf\">[2022-06-27 22:31:11] </span><span style=\"color: #000080; text-decoration-color: #000080\">INFO    </span> ⛰  Yosemite National Park, CA <span style=\"font-weight: bold\">(</span>#<span style=\"color: #008080; text-decoration-color: #008080; font-weight: bold\">2991</span><span style=\"font-weight: bold\">)</span> - 🏕  Crane Flat         \n",
       "<span style=\"color: #7fbfbf; text-decoration-color: #7fbfbf\">                      </span>         Campground <span style=\"font-weight: bold\">(</span>#<span style=\"color: #008080; text-decoration-color: #008080; font-weight: bold\">232452</span><span style=\"font-weight: bold\">)</span>                                          \n",
       "</pre>\n"
      ],
      "text/plain": [
       "\u001b[2;36m[2022-06-27 22:31:11]\u001b[0m\u001b[2;36m \u001b[0m\u001b[34mINFO    \u001b[0m ⛰  Yosemite National Park, CA \u001b[1m(\u001b[0m#\u001b[1;36m2991\u001b[0m\u001b[1m)\u001b[0m - 🏕  Crane Flat         \n",
       "\u001b[2;36m                      \u001b[0m         Campground \u001b[1m(\u001b[0m#\u001b[1;36m232452\u001b[0m\u001b[1m)\u001b[0m                                          \n"
      ]
     },
     "metadata": {},
     "output_type": "display_data"
    },
    {
     "data": {
      "text/html": [
       "<pre style=\"white-space:pre;overflow-x:auto;line-height:normal;font-family:Menlo,'DejaVu Sans Mono',consolas,'Courier New',monospace\"><span style=\"color: #7fbfbf; text-decoration-color: #7fbfbf\">[2022-06-27 22:31:11] </span><span style=\"color: #000080; text-decoration-color: #000080\">INFO    </span> ⛰  Yosemite National Park, CA <span style=\"font-weight: bold\">(</span>#<span style=\"color: #008080; text-decoration-color: #008080; font-weight: bold\">2991</span><span style=\"font-weight: bold\">)</span> - 🏕  Hodgdon Meadow     \n",
       "<span style=\"color: #7fbfbf; text-decoration-color: #7fbfbf\">                      </span>         Campground <span style=\"font-weight: bold\">(</span>#<span style=\"color: #008080; text-decoration-color: #008080; font-weight: bold\">232451</span><span style=\"font-weight: bold\">)</span>                                          \n",
       "</pre>\n"
      ],
      "text/plain": [
       "\u001b[2;36m[2022-06-27 22:31:11]\u001b[0m\u001b[2;36m \u001b[0m\u001b[34mINFO    \u001b[0m ⛰  Yosemite National Park, CA \u001b[1m(\u001b[0m#\u001b[1;36m2991\u001b[0m\u001b[1m)\u001b[0m - 🏕  Hodgdon Meadow     \n",
       "\u001b[2;36m                      \u001b[0m         Campground \u001b[1m(\u001b[0m#\u001b[1;36m232451\u001b[0m\u001b[1m)\u001b[0m                                          \n"
      ]
     },
     "metadata": {},
     "output_type": "display_data"
    },
    {
     "data": {
      "text/html": [
       "<pre style=\"white-space:pre;overflow-x:auto;line-height:normal;font-family:Menlo,'DejaVu Sans Mono',consolas,'Courier New',monospace\"><span style=\"color: #7fbfbf; text-decoration-color: #7fbfbf\">[2022-06-27 22:31:11] </span><span style=\"color: #000080; text-decoration-color: #000080\">INFO    </span> ⛰  Yosemite National Park, CA <span style=\"font-weight: bold\">(</span>#<span style=\"color: #008080; text-decoration-color: #008080; font-weight: bold\">2991</span><span style=\"font-weight: bold\">)</span> - 🏕  Lower Pines        \n",
       "<span style=\"color: #7fbfbf; text-decoration-color: #7fbfbf\">                      </span>         Campground <span style=\"font-weight: bold\">(</span>#<span style=\"color: #008080; text-decoration-color: #008080; font-weight: bold\">232450</span><span style=\"font-weight: bold\">)</span>                                          \n",
       "</pre>\n"
      ],
      "text/plain": [
       "\u001b[2;36m[2022-06-27 22:31:11]\u001b[0m\u001b[2;36m \u001b[0m\u001b[34mINFO    \u001b[0m ⛰  Yosemite National Park, CA \u001b[1m(\u001b[0m#\u001b[1;36m2991\u001b[0m\u001b[1m)\u001b[0m - 🏕  Lower Pines        \n",
       "\u001b[2;36m                      \u001b[0m         Campground \u001b[1m(\u001b[0m#\u001b[1;36m232450\u001b[0m\u001b[1m)\u001b[0m                                          \n"
      ]
     },
     "metadata": {},
     "output_type": "display_data"
    },
    {
     "data": {
      "text/html": [
       "<pre style=\"white-space:pre;overflow-x:auto;line-height:normal;font-family:Menlo,'DejaVu Sans Mono',consolas,'Courier New',monospace\"><span style=\"color: #7fbfbf; text-decoration-color: #7fbfbf\">[2022-06-27 22:31:11] </span><span style=\"color: #000080; text-decoration-color: #000080\">INFO    </span> ⛰  Yosemite National Park, CA <span style=\"font-weight: bold\">(</span>#<span style=\"color: #008080; text-decoration-color: #008080; font-weight: bold\">2991</span><span style=\"font-weight: bold\">)</span> - 🏕  North Pines        \n",
       "<span style=\"color: #7fbfbf; text-decoration-color: #7fbfbf\">                      </span>         Campground <span style=\"font-weight: bold\">(</span>#<span style=\"color: #008080; text-decoration-color: #008080; font-weight: bold\">232449</span><span style=\"font-weight: bold\">)</span>                                          \n",
       "</pre>\n"
      ],
      "text/plain": [
       "\u001b[2;36m[2022-06-27 22:31:11]\u001b[0m\u001b[2;36m \u001b[0m\u001b[34mINFO    \u001b[0m ⛰  Yosemite National Park, CA \u001b[1m(\u001b[0m#\u001b[1;36m2991\u001b[0m\u001b[1m)\u001b[0m - 🏕  North Pines        \n",
       "\u001b[2;36m                      \u001b[0m         Campground \u001b[1m(\u001b[0m#\u001b[1;36m232449\u001b[0m\u001b[1m)\u001b[0m                                          \n"
      ]
     },
     "metadata": {},
     "output_type": "display_data"
    },
    {
     "data": {
      "text/html": [
       "<pre style=\"white-space:pre;overflow-x:auto;line-height:normal;font-family:Menlo,'DejaVu Sans Mono',consolas,'Courier New',monospace\"><span style=\"color: #7fbfbf; text-decoration-color: #7fbfbf\">[2022-06-27 22:31:11] </span><span style=\"color: #000080; text-decoration-color: #000080\">INFO    </span> ⛰  Yosemite National Park, CA <span style=\"font-weight: bold\">(</span>#<span style=\"color: #008080; text-decoration-color: #008080; font-weight: bold\">2991</span><span style=\"font-weight: bold\">)</span> - 🏕  Tuolumne Meadows   \n",
       "<span style=\"color: #7fbfbf; text-decoration-color: #7fbfbf\">                      </span>         Campground <span style=\"font-weight: bold\">(</span>#<span style=\"color: #008080; text-decoration-color: #008080; font-weight: bold\">232448</span><span style=\"font-weight: bold\">)</span>                                          \n",
       "</pre>\n"
      ],
      "text/plain": [
       "\u001b[2;36m[2022-06-27 22:31:11]\u001b[0m\u001b[2;36m \u001b[0m\u001b[34mINFO    \u001b[0m ⛰  Yosemite National Park, CA \u001b[1m(\u001b[0m#\u001b[1;36m2991\u001b[0m\u001b[1m)\u001b[0m - 🏕  Tuolumne Meadows   \n",
       "\u001b[2;36m                      \u001b[0m         Campground \u001b[1m(\u001b[0m#\u001b[1;36m232448\u001b[0m\u001b[1m)\u001b[0m                                          \n"
      ]
     },
     "metadata": {},
     "output_type": "display_data"
    },
    {
     "data": {
      "text/html": [
       "<pre style=\"white-space:pre;overflow-x:auto;line-height:normal;font-family:Menlo,'DejaVu Sans Mono',consolas,'Courier New',monospace\"><span style=\"color: #7fbfbf; text-decoration-color: #7fbfbf\">[2022-06-27 22:31:11] </span><span style=\"color: #000080; text-decoration-color: #000080\">INFO    </span> ⛰  Yosemite National Park, CA <span style=\"font-weight: bold\">(</span>#<span style=\"color: #008080; text-decoration-color: #008080; font-weight: bold\">2991</span><span style=\"font-weight: bold\">)</span> - 🏕  Upper Pines        \n",
       "<span style=\"color: #7fbfbf; text-decoration-color: #7fbfbf\">                      </span>         Campground <span style=\"font-weight: bold\">(</span>#<span style=\"color: #008080; text-decoration-color: #008080; font-weight: bold\">232447</span><span style=\"font-weight: bold\">)</span>                                          \n",
       "</pre>\n"
      ],
      "text/plain": [
       "\u001b[2;36m[2022-06-27 22:31:11]\u001b[0m\u001b[2;36m \u001b[0m\u001b[34mINFO    \u001b[0m ⛰  Yosemite National Park, CA \u001b[1m(\u001b[0m#\u001b[1;36m2991\u001b[0m\u001b[1m)\u001b[0m - 🏕  Upper Pines        \n",
       "\u001b[2;36m                      \u001b[0m         Campground \u001b[1m(\u001b[0m#\u001b[1;36m232447\u001b[0m\u001b[1m)\u001b[0m                                          \n"
      ]
     },
     "metadata": {},
     "output_type": "display_data"
    },
    {
     "data": {
      "text/html": [
       "<pre style=\"white-space:pre;overflow-x:auto;line-height:normal;font-family:Menlo,'DejaVu Sans Mono',consolas,'Courier New',monospace\"><span style=\"color: #7fbfbf; text-decoration-color: #7fbfbf\">[2022-06-27 22:31:11] </span><span style=\"color: #000080; text-decoration-color: #000080\">INFO    </span> ⛰  Yosemite National Park, CA <span style=\"font-weight: bold\">(</span>#<span style=\"color: #008080; text-decoration-color: #008080; font-weight: bold\">2991</span><span style=\"font-weight: bold\">)</span> - 🏕  Wawona Campground  \n",
       "<span style=\"color: #7fbfbf; text-decoration-color: #7fbfbf\">                      </span>         <span style=\"font-weight: bold\">(</span>#<span style=\"color: #008080; text-decoration-color: #008080; font-weight: bold\">232446</span><span style=\"font-weight: bold\">)</span>                                                     \n",
       "</pre>\n"
      ],
      "text/plain": [
       "\u001b[2;36m[2022-06-27 22:31:11]\u001b[0m\u001b[2;36m \u001b[0m\u001b[34mINFO    \u001b[0m ⛰  Yosemite National Park, CA \u001b[1m(\u001b[0m#\u001b[1;36m2991\u001b[0m\u001b[1m)\u001b[0m - 🏕  Wawona Campground  \n",
       "\u001b[2;36m                      \u001b[0m         \u001b[1m(\u001b[0m#\u001b[1;36m232446\u001b[0m\u001b[1m)\u001b[0m                                                     \n"
      ]
     },
     "metadata": {},
     "output_type": "display_data"
    },
    {
     "data": {
      "text/html": [
       "<pre style=\"white-space:pre;overflow-x:auto;line-height:normal;font-family:Menlo,'DejaVu Sans Mono',consolas,'Courier New',monospace\"><span style=\"color: #7fbfbf; text-decoration-color: #7fbfbf\">[2022-06-27 22:31:11] </span><span style=\"color: #000080; text-decoration-color: #000080\">INFO    </span> ⛰  Yosemite National Park, CA <span style=\"font-weight: bold\">(</span>#<span style=\"color: #008080; text-decoration-color: #008080; font-weight: bold\">2991</span><span style=\"font-weight: bold\">)</span> - 🏕  Yosemite Creek     \n",
       "<span style=\"color: #7fbfbf; text-decoration-color: #7fbfbf\">                      </span>         Campground <span style=\"font-weight: bold\">(</span>#<span style=\"color: #008080; text-decoration-color: #008080; font-weight: bold\">10083840</span><span style=\"font-weight: bold\">)</span>                                        \n",
       "</pre>\n"
      ],
      "text/plain": [
       "\u001b[2;36m[2022-06-27 22:31:11]\u001b[0m\u001b[2;36m \u001b[0m\u001b[34mINFO    \u001b[0m ⛰  Yosemite National Park, CA \u001b[1m(\u001b[0m#\u001b[1;36m2991\u001b[0m\u001b[1m)\u001b[0m - 🏕  Yosemite Creek     \n",
       "\u001b[2;36m                      \u001b[0m         Campground \u001b[1m(\u001b[0m#\u001b[1;36m10083840\u001b[0m\u001b[1m)\u001b[0m                                        \n"
      ]
     },
     "metadata": {},
     "output_type": "display_data"
    },
    {
     "data": {
      "text/html": [
       "<pre style=\"white-space:pre;overflow-x:auto;line-height:normal;font-family:Menlo,'DejaVu Sans Mono',consolas,'Courier New',monospace\"><span style=\"color: #7fbfbf; text-decoration-color: #7fbfbf\">[2022-06-27 22:31:11] </span><span style=\"color: #000080; text-decoration-color: #000080\">INFO    </span> ⛰  Yosemite National Park, USA <span style=\"font-weight: bold\">(</span>#<span style=\"color: #008080; text-decoration-color: #008080; font-weight: bold\">2991</span><span style=\"font-weight: bold\">)</span> - 🏕  Tamarack Flat     \n",
       "<span style=\"color: #7fbfbf; text-decoration-color: #7fbfbf\">                      </span>         Campground <span style=\"font-weight: bold\">(</span>#<span style=\"color: #008080; text-decoration-color: #008080; font-weight: bold\">10083845</span><span style=\"font-weight: bold\">)</span>                                        \n",
       "</pre>\n"
      ],
      "text/plain": [
       "\u001b[2;36m[2022-06-27 22:31:11]\u001b[0m\u001b[2;36m \u001b[0m\u001b[34mINFO    \u001b[0m ⛰  Yosemite National Park, USA \u001b[1m(\u001b[0m#\u001b[1;36m2991\u001b[0m\u001b[1m)\u001b[0m - 🏕  Tamarack Flat     \n",
       "\u001b[2;36m                      \u001b[0m         Campground \u001b[1m(\u001b[0m#\u001b[1;36m10083845\u001b[0m\u001b[1m)\u001b[0m                                        \n"
      ]
     },
     "metadata": {},
     "output_type": "display_data"
    },
    {
     "data": {
      "text/html": [
       "<pre style=\"white-space:pre;overflow-x:auto;line-height:normal;font-family:Menlo,'DejaVu Sans Mono',consolas,'Courier New',monospace\"><span style=\"color: #7fbfbf; text-decoration-color: #7fbfbf\">[2022-06-27 22:31:11] </span><span style=\"color: #000080; text-decoration-color: #000080\">INFO    </span> ⛰  Yosemite National Park, USA <span style=\"font-weight: bold\">(</span>#<span style=\"color: #008080; text-decoration-color: #008080; font-weight: bold\">2991</span><span style=\"font-weight: bold\">)</span> - 🏕  White Wolf        \n",
       "<span style=\"color: #7fbfbf; text-decoration-color: #7fbfbf\">                      </span>         Campground <span style=\"font-weight: bold\">(</span>#<span style=\"color: #008080; text-decoration-color: #008080; font-weight: bold\">10083567</span><span style=\"font-weight: bold\">)</span>                                        \n",
       "</pre>\n"
      ],
      "text/plain": [
       "\u001b[2;36m[2022-06-27 22:31:11]\u001b[0m\u001b[2;36m \u001b[0m\u001b[34mINFO    \u001b[0m ⛰  Yosemite National Park, USA \u001b[1m(\u001b[0m#\u001b[1;36m2991\u001b[0m\u001b[1m)\u001b[0m - 🏕  White Wolf        \n",
       "\u001b[2;36m                      \u001b[0m         Campground \u001b[1m(\u001b[0m#\u001b[1;36m10083567\u001b[0m\u001b[1m)\u001b[0m                                        \n"
      ]
     },
     "metadata": {},
     "output_type": "display_data"
    },
    {
     "data": {
      "text/plain": [
       "[CampgroundFacility(facility_name='Many Glacier Campground', recreation_area='Glacier National Park, MT', facility_id=251869, recreation_area_id=2725),\n",
       " CampgroundFacility(facility_name='Apgar Group Sites', recreation_area='Glacier National Park, MT', facility_id=234669, recreation_area_id=2725),\n",
       " CampgroundFacility(facility_name='Sprague Creek Campground', recreation_area='Glacier National Park, MT', facility_id=258795, recreation_area_id=2725),\n",
       " CampgroundFacility(facility_name='Apgar Campground', recreation_area='Glacier National Park, MT', facility_id=10171274, recreation_area_id=2725),\n",
       " CampgroundFacility(facility_name='Fish Creek Campground', recreation_area='Glacier National Park, MT', facility_id=232493, recreation_area_id=2725),\n",
       " CampgroundFacility(facility_name='St. Mary Campground', recreation_area='Glacier National Park, MT', facility_id=232492, recreation_area_id=2725),\n",
       " CampgroundFacility(facility_name='Yosemite Creek Campground', recreation_area='Yosemite National Park, CA', facility_id=10083840, recreation_area_id=2991),\n",
       " CampgroundFacility(facility_name='White Wolf Campground', recreation_area='Yosemite National Park, USA', facility_id=10083567, recreation_area_id=2991),\n",
       " CampgroundFacility(facility_name='North Pines Campground', recreation_area='Yosemite National Park, CA', facility_id=232449, recreation_area_id=2991),\n",
       " CampgroundFacility(facility_name='Lower Pines Campground', recreation_area='Yosemite National Park, CA', facility_id=232450, recreation_area_id=2991),\n",
       " CampgroundFacility(facility_name='Wawona Campground', recreation_area='Yosemite National Park, CA', facility_id=232446, recreation_area_id=2991),\n",
       " CampgroundFacility(facility_name='Tamarack Flat Campground', recreation_area='Yosemite National Park, USA', facility_id=10083845, recreation_area_id=2991),\n",
       " CampgroundFacility(facility_name='Bridalveil Creek Campground', recreation_area='Yosemite National Park, CA', facility_id=232453, recreation_area_id=2991),\n",
       " CampgroundFacility(facility_name='Tuolumne Meadows Campground', recreation_area='Yosemite National Park, CA', facility_id=232448, recreation_area_id=2991),\n",
       " CampgroundFacility(facility_name='Crane Flat Campground', recreation_area='Yosemite National Park, CA', facility_id=232452, recreation_area_id=2991),\n",
       " CampgroundFacility(facility_name='Camp 4', recreation_area='Yosemite National Park, CA', facility_id=10004152, recreation_area_id=2991),\n",
       " CampgroundFacility(facility_name='Hodgdon Meadow Campground', recreation_area='Yosemite National Park, CA', facility_id=232451, recreation_area_id=2991),\n",
       " CampgroundFacility(facility_name='Upper Pines Campground', recreation_area='Yosemite National Park, CA', facility_id=232447, recreation_area_id=2991)]"
      ]
     },
     "execution_count": 18,
     "metadata": {},
     "output_type": "execute_result"
    }
   ],
   "source": [
    "rec_area_ids = [\n",
    "    2725,\n",
    "    2991\n",
    "]\n",
    "facilities = []\n",
    "for rec_area in rec_area_ids:\n",
    "    facilities += rdg.find_facilities_per_recreation_area(rec_area)\n",
    "facilities"
   ]
  },
  {
   "cell_type": "code",
   "execution_count": 20,
   "id": "570b391a-4d7c-4399-bb9a-a13d74bfeb60",
   "metadata": {},
   "outputs": [
    {
     "data": {
      "text/html": [
       "<pre style=\"white-space:pre;overflow-x:auto;line-height:normal;font-family:Menlo,'DejaVu Sans Mono',consolas,'Courier New',monospace\"><span style=\"color: #7fbfbf; text-decoration-color: #7fbfbf\">[2022-06-27 22:31:35] </span><span style=\"color: #008000; text-decoration-color: #008000\">DEBUG   </span> Starting new HTTPS connection <span style=\"font-weight: bold\">(</span><span style=\"color: #008080; text-decoration-color: #008080; font-weight: bold\">1</span><span style=\"font-weight: bold\">)</span>: ridb.recreation.gov:<span style=\"color: #008080; text-decoration-color: #008080; font-weight: bold\">443</span>    \n",
       "</pre>\n"
      ],
      "text/plain": [
       "\u001b[2;36m[2022-06-27 22:31:35]\u001b[0m\u001b[2;36m \u001b[0m\u001b[32mDEBUG   \u001b[0m Starting new HTTPS connection \u001b[1m(\u001b[0m\u001b[1;36m1\u001b[0m\u001b[1m)\u001b[0m: ridb.recreation.gov:\u001b[1;36m443\u001b[0m    \n"
      ]
     },
     "metadata": {},
     "output_type": "display_data"
    },
    {
     "data": {
      "text/html": [
       "<pre style=\"white-space:pre;overflow-x:auto;line-height:normal;font-family:Menlo,'DejaVu Sans Mono',consolas,'Courier New',monospace\"><span style=\"color: #7fbfbf; text-decoration-color: #7fbfbf\">[2022-06-27 22:31:36] </span><span style=\"color: #008000; text-decoration-color: #008000\">DEBUG   </span> <span style=\"color: #0000ff; text-decoration-color: #0000ff; text-decoration: underline\">https://ridb.recreation.gov:443</span> <span style=\"color: #008000; text-decoration-color: #008000\">\"</span><span style=\"color: #808000; text-decoration-color: #808000; font-weight: bold\">GET</span><span style=\"color: #008000; text-decoration-color: #008000\"> </span>                         \n",
       "<span style=\"color: #7fbfbf; text-decoration-color: #7fbfbf\">                      </span>         <span style=\"color: #008000; text-decoration-color: #008000\">/api/v1/facilities/251869/campsites/?limit=50&amp;offset=0 </span>       \n",
       "<span style=\"color: #7fbfbf; text-decoration-color: #7fbfbf\">                      </span>         <span style=\"color: #008000; text-decoration-color: #008000\">HTTP/1.1\"</span> <span style=\"color: #008080; text-decoration-color: #008080; font-weight: bold\">200</span> <span style=\"color: #800080; text-decoration-color: #800080; font-style: italic\">None</span>                                            \n",
       "</pre>\n"
      ],
      "text/plain": [
       "\u001b[2;36m[2022-06-27 22:31:36]\u001b[0m\u001b[2;36m \u001b[0m\u001b[32mDEBUG   \u001b[0m \u001b[4;94mhttps://ridb.recreation.gov:443\u001b[0m \u001b[32m\"\u001b[0m\u001b[1;33mGET\u001b[0m\u001b[32m \u001b[0m                         \n",
       "\u001b[2;36m                      \u001b[0m         \u001b[32m/api/v1/facilities/251869/campsites/?\u001b[0m\u001b[32mlimit\u001b[0m\u001b[32m=\u001b[0m\u001b[32m50\u001b[0m\u001b[32m&\u001b[0m\u001b[32moffset\u001b[0m\u001b[32m=\u001b[0m\u001b[32m0\u001b[0m\u001b[32m \u001b[0m       \n",
       "\u001b[2;36m                      \u001b[0m         \u001b[32mHTTP/1.1\"\u001b[0m \u001b[1;36m200\u001b[0m \u001b[3;35mNone\u001b[0m                                            \n"
      ]
     },
     "metadata": {},
     "output_type": "display_data"
    },
    {
     "data": {
      "text/html": [
       "<pre style=\"white-space:pre;overflow-x:auto;line-height:normal;font-family:Menlo,'DejaVu Sans Mono',consolas,'Courier New',monospace\"><span style=\"color: #7fbfbf; text-decoration-color: #7fbfbf\">[2022-06-27 22:31:36] </span><span style=\"color: #008000; text-decoration-color: #008000\">DEBUG   </span> Starting new HTTPS connection <span style=\"font-weight: bold\">(</span><span style=\"color: #008080; text-decoration-color: #008080; font-weight: bold\">1</span><span style=\"font-weight: bold\">)</span>: ridb.recreation.gov:<span style=\"color: #008080; text-decoration-color: #008080; font-weight: bold\">443</span>    \n",
       "</pre>\n"
      ],
      "text/plain": [
       "\u001b[2;36m[2022-06-27 22:31:36]\u001b[0m\u001b[2;36m \u001b[0m\u001b[32mDEBUG   \u001b[0m Starting new HTTPS connection \u001b[1m(\u001b[0m\u001b[1;36m1\u001b[0m\u001b[1m)\u001b[0m: ridb.recreation.gov:\u001b[1;36m443\u001b[0m    \n"
      ]
     },
     "metadata": {},
     "output_type": "display_data"
    },
    {
     "data": {
      "text/html": [
       "<pre style=\"white-space:pre;overflow-x:auto;line-height:normal;font-family:Menlo,'DejaVu Sans Mono',consolas,'Courier New',monospace\"><span style=\"color: #7fbfbf; text-decoration-color: #7fbfbf\">[2022-06-27 22:31:36] </span><span style=\"color: #008000; text-decoration-color: #008000\">DEBUG   </span> <span style=\"color: #0000ff; text-decoration-color: #0000ff; text-decoration: underline\">https://ridb.recreation.gov:443</span> <span style=\"color: #008000; text-decoration-color: #008000\">\"</span><span style=\"color: #808000; text-decoration-color: #808000; font-weight: bold\">GET</span><span style=\"color: #008000; text-decoration-color: #008000\"> </span>                         \n",
       "<span style=\"color: #7fbfbf; text-decoration-color: #7fbfbf\">                      </span>         <span style=\"color: #008000; text-decoration-color: #008000\">/api/v1/facilities/251869/campsites/?limit=50&amp;offset=50 </span>      \n",
       "<span style=\"color: #7fbfbf; text-decoration-color: #7fbfbf\">                      </span>         <span style=\"color: #008000; text-decoration-color: #008000\">HTTP/1.1\"</span> <span style=\"color: #008080; text-decoration-color: #008080; font-weight: bold\">404</span> <span style=\"color: #008080; text-decoration-color: #008080; font-weight: bold\">19</span>                                              \n",
       "</pre>\n"
      ],
      "text/plain": [
       "\u001b[2;36m[2022-06-27 22:31:36]\u001b[0m\u001b[2;36m \u001b[0m\u001b[32mDEBUG   \u001b[0m \u001b[4;94mhttps://ridb.recreation.gov:443\u001b[0m \u001b[32m\"\u001b[0m\u001b[1;33mGET\u001b[0m\u001b[32m \u001b[0m                         \n",
       "\u001b[2;36m                      \u001b[0m         \u001b[32m/api/v1/facilities/251869/campsites/?\u001b[0m\u001b[32mlimit\u001b[0m\u001b[32m=\u001b[0m\u001b[32m50\u001b[0m\u001b[32m&\u001b[0m\u001b[32moffset\u001b[0m\u001b[32m=\u001b[0m\u001b[32m50\u001b[0m\u001b[32m \u001b[0m      \n",
       "\u001b[2;36m                      \u001b[0m         \u001b[32mHTTP/1.1\"\u001b[0m \u001b[1;36m404\u001b[0m \u001b[1;36m19\u001b[0m                                              \n"
      ]
     },
     "metadata": {},
     "output_type": "display_data"
    },
    {
     "data": {
      "text/html": [
       "<pre style=\"white-space:pre;overflow-x:auto;line-height:normal;font-family:Menlo,'DejaVu Sans Mono',consolas,'Courier New',monospace\"><span style=\"color: #7fbfbf; text-decoration-color: #7fbfbf\">[2022-06-27 22:31:36] </span><span style=\"color: #800000; text-decoration-color: #800000; font-weight: bold\">ERROR   </span> Receiving bad data from Recreation.gov API: <span style=\"color: #008080; text-decoration-color: #008080; font-weight: bold\">404</span> page not found\n",
       "<span style=\"color: #7fbfbf; text-decoration-color: #7fbfbf\">                      </span>                                                                       \n",
       "</pre>\n"
      ],
      "text/plain": [
       "\u001b[2;36m[2022-06-27 22:31:36]\u001b[0m\u001b[2;36m \u001b[0m\u001b[1;31mERROR   \u001b[0m Receiving bad data from Recreation.gov API: \u001b[1;36m404\u001b[0m page not found\n",
       "\u001b[2;36m                      \u001b[0m                                                                       \n"
      ]
     },
     "metadata": {},
     "output_type": "display_data"
    },
    {
     "data": {
      "text/html": [
       "<pre style=\"white-space:pre;overflow-x:auto;line-height:normal;font-family:Menlo,'DejaVu Sans Mono',consolas,'Courier New',monospace\"><span style=\"color: #7fbfbf; text-decoration-color: #7fbfbf\">[2022-06-27 22:31:36] </span><span style=\"color: #008000; text-decoration-color: #008000\">DEBUG   </span> Starting new HTTPS connection <span style=\"font-weight: bold\">(</span><span style=\"color: #008080; text-decoration-color: #008080; font-weight: bold\">1</span><span style=\"font-weight: bold\">)</span>: ridb.recreation.gov:<span style=\"color: #008080; text-decoration-color: #008080; font-weight: bold\">443</span>    \n",
       "</pre>\n"
      ],
      "text/plain": [
       "\u001b[2;36m[2022-06-27 22:31:36]\u001b[0m\u001b[2;36m \u001b[0m\u001b[32mDEBUG   \u001b[0m Starting new HTTPS connection \u001b[1m(\u001b[0m\u001b[1;36m1\u001b[0m\u001b[1m)\u001b[0m: ridb.recreation.gov:\u001b[1;36m443\u001b[0m    \n"
      ]
     },
     "metadata": {},
     "output_type": "display_data"
    },
    {
     "data": {
      "text/html": [
       "<pre style=\"white-space:pre;overflow-x:auto;line-height:normal;font-family:Menlo,'DejaVu Sans Mono',consolas,'Courier New',monospace\"><span style=\"color: #7fbfbf; text-decoration-color: #7fbfbf\">[2022-06-27 22:31:36] </span><span style=\"color: #008000; text-decoration-color: #008000\">DEBUG   </span> <span style=\"color: #0000ff; text-decoration-color: #0000ff; text-decoration: underline\">https://ridb.recreation.gov:443</span> <span style=\"color: #008000; text-decoration-color: #008000\">\"</span><span style=\"color: #808000; text-decoration-color: #808000; font-weight: bold\">GET</span><span style=\"color: #008000; text-decoration-color: #008000\"> </span>                         \n",
       "<span style=\"color: #7fbfbf; text-decoration-color: #7fbfbf\">                      </span>         <span style=\"color: #008000; text-decoration-color: #008000\">/api/v1/facilities/251869/campsites/?limit=50&amp;offset=50 </span>      \n",
       "<span style=\"color: #7fbfbf; text-decoration-color: #7fbfbf\">                      </span>         <span style=\"color: #008000; text-decoration-color: #008000\">HTTP/1.1\"</span> <span style=\"color: #008080; text-decoration-color: #008080; font-weight: bold\">404</span> <span style=\"color: #008080; text-decoration-color: #008080; font-weight: bold\">19</span>                                              \n",
       "</pre>\n"
      ],
      "text/plain": [
       "\u001b[2;36m[2022-06-27 22:31:36]\u001b[0m\u001b[2;36m \u001b[0m\u001b[32mDEBUG   \u001b[0m \u001b[4;94mhttps://ridb.recreation.gov:443\u001b[0m \u001b[32m\"\u001b[0m\u001b[1;33mGET\u001b[0m\u001b[32m \u001b[0m                         \n",
       "\u001b[2;36m                      \u001b[0m         \u001b[32m/api/v1/facilities/251869/campsites/?\u001b[0m\u001b[32mlimit\u001b[0m\u001b[32m=\u001b[0m\u001b[32m50\u001b[0m\u001b[32m&\u001b[0m\u001b[32moffset\u001b[0m\u001b[32m=\u001b[0m\u001b[32m50\u001b[0m\u001b[32m \u001b[0m      \n",
       "\u001b[2;36m                      \u001b[0m         \u001b[32mHTTP/1.1\"\u001b[0m \u001b[1;36m404\u001b[0m \u001b[1;36m19\u001b[0m                                              \n"
      ]
     },
     "metadata": {},
     "output_type": "display_data"
    },
    {
     "data": {
      "text/html": [
       "<pre style=\"white-space:pre;overflow-x:auto;line-height:normal;font-family:Menlo,'DejaVu Sans Mono',consolas,'Courier New',monospace\"><span style=\"color: #7fbfbf; text-decoration-color: #7fbfbf\">[2022-06-27 22:31:36] </span><span style=\"color: #800000; text-decoration-color: #800000; font-weight: bold\">ERROR   </span> Receiving bad data from Recreation.gov API: <span style=\"color: #008080; text-decoration-color: #008080; font-weight: bold\">404</span> page not found\n",
       "<span style=\"color: #7fbfbf; text-decoration-color: #7fbfbf\">                      </span>                                                                       \n",
       "</pre>\n"
      ],
      "text/plain": [
       "\u001b[2;36m[2022-06-27 22:31:36]\u001b[0m\u001b[2;36m \u001b[0m\u001b[1;31mERROR   \u001b[0m Receiving bad data from Recreation.gov API: \u001b[1;36m404\u001b[0m page not found\n",
       "\u001b[2;36m                      \u001b[0m                                                                       \n"
      ]
     },
     "metadata": {},
     "output_type": "display_data"
    },
    {
     "data": {
      "text/html": [
       "<pre style=\"white-space:pre;overflow-x:auto;line-height:normal;font-family:Menlo,'DejaVu Sans Mono',consolas,'Courier New',monospace\"><span style=\"color: #7fbfbf; text-decoration-color: #7fbfbf\">[2022-06-27 22:31:40] </span><span style=\"color: #008000; text-decoration-color: #008000\">DEBUG   </span> Starting new HTTPS connection <span style=\"font-weight: bold\">(</span><span style=\"color: #008080; text-decoration-color: #008080; font-weight: bold\">1</span><span style=\"font-weight: bold\">)</span>: ridb.recreation.gov:<span style=\"color: #008080; text-decoration-color: #008080; font-weight: bold\">443</span>    \n",
       "</pre>\n"
      ],
      "text/plain": [
       "\u001b[2;36m[2022-06-27 22:31:40]\u001b[0m\u001b[2;36m \u001b[0m\u001b[32mDEBUG   \u001b[0m Starting new HTTPS connection \u001b[1m(\u001b[0m\u001b[1;36m1\u001b[0m\u001b[1m)\u001b[0m: ridb.recreation.gov:\u001b[1;36m443\u001b[0m    \n"
      ]
     },
     "metadata": {},
     "output_type": "display_data"
    },
    {
     "data": {
      "text/html": [
       "<pre style=\"white-space:pre;overflow-x:auto;line-height:normal;font-family:Menlo,'DejaVu Sans Mono',consolas,'Courier New',monospace\"><span style=\"color: #7fbfbf; text-decoration-color: #7fbfbf\">[2022-06-27 22:31:41] </span><span style=\"color: #008000; text-decoration-color: #008000\">DEBUG   </span> <span style=\"color: #0000ff; text-decoration-color: #0000ff; text-decoration: underline\">https://ridb.recreation.gov:443</span> <span style=\"color: #008000; text-decoration-color: #008000\">\"</span><span style=\"color: #808000; text-decoration-color: #808000; font-weight: bold\">GET</span><span style=\"color: #008000; text-decoration-color: #008000\"> </span>                         \n",
       "<span style=\"color: #7fbfbf; text-decoration-color: #7fbfbf\">                      </span>         <span style=\"color: #008000; text-decoration-color: #008000\">/api/v1/facilities/251869/campsites/?limit=50&amp;offset=50 </span>      \n",
       "<span style=\"color: #7fbfbf; text-decoration-color: #7fbfbf\">                      </span>         <span style=\"color: #008000; text-decoration-color: #008000\">HTTP/1.1\"</span> <span style=\"color: #008080; text-decoration-color: #008080; font-weight: bold\">200</span> <span style=\"color: #800080; text-decoration-color: #800080; font-style: italic\">None</span>                                            \n",
       "</pre>\n"
      ],
      "text/plain": [
       "\u001b[2;36m[2022-06-27 22:31:41]\u001b[0m\u001b[2;36m \u001b[0m\u001b[32mDEBUG   \u001b[0m \u001b[4;94mhttps://ridb.recreation.gov:443\u001b[0m \u001b[32m\"\u001b[0m\u001b[1;33mGET\u001b[0m\u001b[32m \u001b[0m                         \n",
       "\u001b[2;36m                      \u001b[0m         \u001b[32m/api/v1/facilities/251869/campsites/?\u001b[0m\u001b[32mlimit\u001b[0m\u001b[32m=\u001b[0m\u001b[32m50\u001b[0m\u001b[32m&\u001b[0m\u001b[32moffset\u001b[0m\u001b[32m=\u001b[0m\u001b[32m50\u001b[0m\u001b[32m \u001b[0m      \n",
       "\u001b[2;36m                      \u001b[0m         \u001b[32mHTTP/1.1\"\u001b[0m \u001b[1;36m200\u001b[0m \u001b[3;35mNone\u001b[0m                                            \n"
      ]
     },
     "metadata": {},
     "output_type": "display_data"
    },
    {
     "data": {
      "text/html": [
       "<pre style=\"white-space:pre;overflow-x:auto;line-height:normal;font-family:Menlo,'DejaVu Sans Mono',consolas,'Courier New',monospace\"><span style=\"color: #7fbfbf; text-decoration-color: #7fbfbf\">[2022-06-27 22:31:41] </span><span style=\"color: #008000; text-decoration-color: #008000\">DEBUG   </span> Starting new HTTPS connection <span style=\"font-weight: bold\">(</span><span style=\"color: #008080; text-decoration-color: #008080; font-weight: bold\">1</span><span style=\"font-weight: bold\">)</span>: ridb.recreation.gov:<span style=\"color: #008080; text-decoration-color: #008080; font-weight: bold\">443</span>    \n",
       "</pre>\n"
      ],
      "text/plain": [
       "\u001b[2;36m[2022-06-27 22:31:41]\u001b[0m\u001b[2;36m \u001b[0m\u001b[32mDEBUG   \u001b[0m Starting new HTTPS connection \u001b[1m(\u001b[0m\u001b[1;36m1\u001b[0m\u001b[1m)\u001b[0m: ridb.recreation.gov:\u001b[1;36m443\u001b[0m    \n"
      ]
     },
     "metadata": {},
     "output_type": "display_data"
    },
    {
     "data": {
      "text/html": [
       "<pre style=\"white-space:pre;overflow-x:auto;line-height:normal;font-family:Menlo,'DejaVu Sans Mono',consolas,'Courier New',monospace\"><span style=\"color: #7fbfbf; text-decoration-color: #7fbfbf\">[2022-06-27 22:31:41] </span><span style=\"color: #008000; text-decoration-color: #008000\">DEBUG   </span> <span style=\"color: #0000ff; text-decoration-color: #0000ff; text-decoration: underline\">https://ridb.recreation.gov:443</span> <span style=\"color: #008000; text-decoration-color: #008000\">\"</span><span style=\"color: #808000; text-decoration-color: #808000; font-weight: bold\">GET</span><span style=\"color: #008000; text-decoration-color: #008000\"> </span>                         \n",
       "<span style=\"color: #7fbfbf; text-decoration-color: #7fbfbf\">                      </span>         <span style=\"color: #008000; text-decoration-color: #008000\">/api/v1/facilities/251869/campsites/?limit=50&amp;offset=100 </span>     \n",
       "<span style=\"color: #7fbfbf; text-decoration-color: #7fbfbf\">                      </span>         <span style=\"color: #008000; text-decoration-color: #008000\">HTTP/1.1\"</span> <span style=\"color: #008080; text-decoration-color: #008080; font-weight: bold\">404</span> <span style=\"color: #008080; text-decoration-color: #008080; font-weight: bold\">19</span>                                              \n",
       "</pre>\n"
      ],
      "text/plain": [
       "\u001b[2;36m[2022-06-27 22:31:41]\u001b[0m\u001b[2;36m \u001b[0m\u001b[32mDEBUG   \u001b[0m \u001b[4;94mhttps://ridb.recreation.gov:443\u001b[0m \u001b[32m\"\u001b[0m\u001b[1;33mGET\u001b[0m\u001b[32m \u001b[0m                         \n",
       "\u001b[2;36m                      \u001b[0m         \u001b[32m/api/v1/facilities/251869/campsites/?\u001b[0m\u001b[32mlimit\u001b[0m\u001b[32m=\u001b[0m\u001b[32m50\u001b[0m\u001b[32m&\u001b[0m\u001b[32moffset\u001b[0m\u001b[32m=\u001b[0m\u001b[32m100\u001b[0m\u001b[32m \u001b[0m     \n",
       "\u001b[2;36m                      \u001b[0m         \u001b[32mHTTP/1.1\"\u001b[0m \u001b[1;36m404\u001b[0m \u001b[1;36m19\u001b[0m                                              \n"
      ]
     },
     "metadata": {},
     "output_type": "display_data"
    },
    {
     "data": {
      "text/html": [
       "<pre style=\"white-space:pre;overflow-x:auto;line-height:normal;font-family:Menlo,'DejaVu Sans Mono',consolas,'Courier New',monospace\"><span style=\"color: #7fbfbf; text-decoration-color: #7fbfbf\">[2022-06-27 22:31:41] </span><span style=\"color: #800000; text-decoration-color: #800000; font-weight: bold\">ERROR   </span> Receiving bad data from Recreation.gov API: <span style=\"color: #008080; text-decoration-color: #008080; font-weight: bold\">404</span> page not found\n",
       "<span style=\"color: #7fbfbf; text-decoration-color: #7fbfbf\">                      </span>                                                                       \n",
       "</pre>\n"
      ],
      "text/plain": [
       "\u001b[2;36m[2022-06-27 22:31:41]\u001b[0m\u001b[2;36m \u001b[0m\u001b[1;31mERROR   \u001b[0m Receiving bad data from Recreation.gov API: \u001b[1;36m404\u001b[0m page not found\n",
       "\u001b[2;36m                      \u001b[0m                                                                       \n"
      ]
     },
     "metadata": {},
     "output_type": "display_data"
    },
    {
     "data": {
      "text/html": [
       "<pre style=\"white-space:pre;overflow-x:auto;line-height:normal;font-family:Menlo,'DejaVu Sans Mono',consolas,'Courier New',monospace\"><span style=\"color: #7fbfbf; text-decoration-color: #7fbfbf\">[2022-06-27 22:31:42] </span><span style=\"color: #008000; text-decoration-color: #008000\">DEBUG   </span> Starting new HTTPS connection <span style=\"font-weight: bold\">(</span><span style=\"color: #008080; text-decoration-color: #008080; font-weight: bold\">1</span><span style=\"font-weight: bold\">)</span>: ridb.recreation.gov:<span style=\"color: #008080; text-decoration-color: #008080; font-weight: bold\">443</span>    \n",
       "</pre>\n"
      ],
      "text/plain": [
       "\u001b[2;36m[2022-06-27 22:31:42]\u001b[0m\u001b[2;36m \u001b[0m\u001b[32mDEBUG   \u001b[0m Starting new HTTPS connection \u001b[1m(\u001b[0m\u001b[1;36m1\u001b[0m\u001b[1m)\u001b[0m: ridb.recreation.gov:\u001b[1;36m443\u001b[0m    \n"
      ]
     },
     "metadata": {},
     "output_type": "display_data"
    },
    {
     "data": {
      "text/html": [
       "<pre style=\"white-space:pre;overflow-x:auto;line-height:normal;font-family:Menlo,'DejaVu Sans Mono',consolas,'Courier New',monospace\"><span style=\"color: #7fbfbf; text-decoration-color: #7fbfbf\">[2022-06-27 22:31:42] </span><span style=\"color: #008000; text-decoration-color: #008000\">DEBUG   </span> <span style=\"color: #0000ff; text-decoration-color: #0000ff; text-decoration: underline\">https://ridb.recreation.gov:443</span> <span style=\"color: #008000; text-decoration-color: #008000\">\"</span><span style=\"color: #808000; text-decoration-color: #808000; font-weight: bold\">GET</span><span style=\"color: #008000; text-decoration-color: #008000\"> </span>                         \n",
       "<span style=\"color: #7fbfbf; text-decoration-color: #7fbfbf\">                      </span>         <span style=\"color: #008000; text-decoration-color: #008000\">/api/v1/facilities/251869/campsites/?limit=50&amp;offset=100 </span>     \n",
       "<span style=\"color: #7fbfbf; text-decoration-color: #7fbfbf\">                      </span>         <span style=\"color: #008000; text-decoration-color: #008000\">HTTP/1.1\"</span> <span style=\"color: #008080; text-decoration-color: #008080; font-weight: bold\">404</span> <span style=\"color: #008080; text-decoration-color: #008080; font-weight: bold\">19</span>                                              \n",
       "</pre>\n"
      ],
      "text/plain": [
       "\u001b[2;36m[2022-06-27 22:31:42]\u001b[0m\u001b[2;36m \u001b[0m\u001b[32mDEBUG   \u001b[0m \u001b[4;94mhttps://ridb.recreation.gov:443\u001b[0m \u001b[32m\"\u001b[0m\u001b[1;33mGET\u001b[0m\u001b[32m \u001b[0m                         \n",
       "\u001b[2;36m                      \u001b[0m         \u001b[32m/api/v1/facilities/251869/campsites/?\u001b[0m\u001b[32mlimit\u001b[0m\u001b[32m=\u001b[0m\u001b[32m50\u001b[0m\u001b[32m&\u001b[0m\u001b[32moffset\u001b[0m\u001b[32m=\u001b[0m\u001b[32m100\u001b[0m\u001b[32m \u001b[0m     \n",
       "\u001b[2;36m                      \u001b[0m         \u001b[32mHTTP/1.1\"\u001b[0m \u001b[1;36m404\u001b[0m \u001b[1;36m19\u001b[0m                                              \n"
      ]
     },
     "metadata": {},
     "output_type": "display_data"
    },
    {
     "data": {
      "text/html": [
       "<pre style=\"white-space:pre;overflow-x:auto;line-height:normal;font-family:Menlo,'DejaVu Sans Mono',consolas,'Courier New',monospace\"><span style=\"color: #7fbfbf; text-decoration-color: #7fbfbf\">[2022-06-27 22:31:42] </span><span style=\"color: #800000; text-decoration-color: #800000; font-weight: bold\">ERROR   </span> Receiving bad data from Recreation.gov API: <span style=\"color: #008080; text-decoration-color: #008080; font-weight: bold\">404</span> page not found\n",
       "<span style=\"color: #7fbfbf; text-decoration-color: #7fbfbf\">                      </span>                                                                       \n",
       "</pre>\n"
      ],
      "text/plain": [
       "\u001b[2;36m[2022-06-27 22:31:42]\u001b[0m\u001b[2;36m \u001b[0m\u001b[1;31mERROR   \u001b[0m Receiving bad data from Recreation.gov API: \u001b[1;36m404\u001b[0m page not found\n",
       "\u001b[2;36m                      \u001b[0m                                                                       \n"
      ]
     },
     "metadata": {},
     "output_type": "display_data"
    },
    {
     "data": {
      "text/html": [
       "<pre style=\"white-space:pre;overflow-x:auto;line-height:normal;font-family:Menlo,'DejaVu Sans Mono',consolas,'Courier New',monospace\"><span style=\"color: #7fbfbf; text-decoration-color: #7fbfbf\">[2022-06-27 22:31:45] </span><span style=\"color: #008000; text-decoration-color: #008000\">DEBUG   </span> Starting new HTTPS connection <span style=\"font-weight: bold\">(</span><span style=\"color: #008080; text-decoration-color: #008080; font-weight: bold\">1</span><span style=\"font-weight: bold\">)</span>: ridb.recreation.gov:<span style=\"color: #008080; text-decoration-color: #008080; font-weight: bold\">443</span>    \n",
       "</pre>\n"
      ],
      "text/plain": [
       "\u001b[2;36m[2022-06-27 22:31:45]\u001b[0m\u001b[2;36m \u001b[0m\u001b[32mDEBUG   \u001b[0m Starting new HTTPS connection \u001b[1m(\u001b[0m\u001b[1;36m1\u001b[0m\u001b[1m)\u001b[0m: ridb.recreation.gov:\u001b[1;36m443\u001b[0m    \n"
      ]
     },
     "metadata": {},
     "output_type": "display_data"
    },
    {
     "data": {
      "text/html": [
       "<pre style=\"white-space:pre;overflow-x:auto;line-height:normal;font-family:Menlo,'DejaVu Sans Mono',consolas,'Courier New',monospace\"><span style=\"color: #7fbfbf; text-decoration-color: #7fbfbf\">[2022-06-27 22:31:45] </span><span style=\"color: #008000; text-decoration-color: #008000\">DEBUG   </span> <span style=\"color: #0000ff; text-decoration-color: #0000ff; text-decoration: underline\">https://ridb.recreation.gov:443</span> <span style=\"color: #008000; text-decoration-color: #008000\">\"</span><span style=\"color: #808000; text-decoration-color: #808000; font-weight: bold\">GET</span><span style=\"color: #008000; text-decoration-color: #008000\"> </span>                         \n",
       "<span style=\"color: #7fbfbf; text-decoration-color: #7fbfbf\">                      </span>         <span style=\"color: #008000; text-decoration-color: #008000\">/api/v1/facilities/251869/campsites/?limit=50&amp;offset=100 </span>     \n",
       "<span style=\"color: #7fbfbf; text-decoration-color: #7fbfbf\">                      </span>         <span style=\"color: #008000; text-decoration-color: #008000\">HTTP/1.1\"</span> <span style=\"color: #008080; text-decoration-color: #008080; font-weight: bold\">404</span> <span style=\"color: #008080; text-decoration-color: #008080; font-weight: bold\">19</span>                                              \n",
       "</pre>\n"
      ],
      "text/plain": [
       "\u001b[2;36m[2022-06-27 22:31:45]\u001b[0m\u001b[2;36m \u001b[0m\u001b[32mDEBUG   \u001b[0m \u001b[4;94mhttps://ridb.recreation.gov:443\u001b[0m \u001b[32m\"\u001b[0m\u001b[1;33mGET\u001b[0m\u001b[32m \u001b[0m                         \n",
       "\u001b[2;36m                      \u001b[0m         \u001b[32m/api/v1/facilities/251869/campsites/?\u001b[0m\u001b[32mlimit\u001b[0m\u001b[32m=\u001b[0m\u001b[32m50\u001b[0m\u001b[32m&\u001b[0m\u001b[32moffset\u001b[0m\u001b[32m=\u001b[0m\u001b[32m100\u001b[0m\u001b[32m \u001b[0m     \n",
       "\u001b[2;36m                      \u001b[0m         \u001b[32mHTTP/1.1\"\u001b[0m \u001b[1;36m404\u001b[0m \u001b[1;36m19\u001b[0m                                              \n"
      ]
     },
     "metadata": {},
     "output_type": "display_data"
    },
    {
     "data": {
      "text/html": [
       "<pre style=\"white-space:pre;overflow-x:auto;line-height:normal;font-family:Menlo,'DejaVu Sans Mono',consolas,'Courier New',monospace\"><span style=\"color: #7fbfbf; text-decoration-color: #7fbfbf\">[2022-06-27 22:31:45] </span><span style=\"color: #800000; text-decoration-color: #800000; font-weight: bold\">ERROR   </span> Receiving bad data from Recreation.gov API: <span style=\"color: #008080; text-decoration-color: #008080; font-weight: bold\">404</span> page not found\n",
       "<span style=\"color: #7fbfbf; text-decoration-color: #7fbfbf\">                      </span>                                                                       \n",
       "</pre>\n"
      ],
      "text/plain": [
       "\u001b[2;36m[2022-06-27 22:31:45]\u001b[0m\u001b[2;36m \u001b[0m\u001b[1;31mERROR   \u001b[0m Receiving bad data from Recreation.gov API: \u001b[1;36m404\u001b[0m page not found\n",
       "\u001b[2;36m                      \u001b[0m                                                                       \n"
      ]
     },
     "metadata": {},
     "output_type": "display_data"
    },
    {
     "data": {
      "text/html": [
       "<pre style=\"white-space:pre;overflow-x:auto;line-height:normal;font-family:Menlo,'DejaVu Sans Mono',consolas,'Courier New',monospace\"><span style=\"color: #7fbfbf; text-decoration-color: #7fbfbf\">[2022-06-27 22:31:46] </span><span style=\"color: #008000; text-decoration-color: #008000\">DEBUG   </span> Starting new HTTPS connection <span style=\"font-weight: bold\">(</span><span style=\"color: #008080; text-decoration-color: #008080; font-weight: bold\">1</span><span style=\"font-weight: bold\">)</span>: ridb.recreation.gov:<span style=\"color: #008080; text-decoration-color: #008080; font-weight: bold\">443</span>    \n",
       "</pre>\n"
      ],
      "text/plain": [
       "\u001b[2;36m[2022-06-27 22:31:46]\u001b[0m\u001b[2;36m \u001b[0m\u001b[32mDEBUG   \u001b[0m Starting new HTTPS connection \u001b[1m(\u001b[0m\u001b[1;36m1\u001b[0m\u001b[1m)\u001b[0m: ridb.recreation.gov:\u001b[1;36m443\u001b[0m    \n"
      ]
     },
     "metadata": {},
     "output_type": "display_data"
    },
    {
     "data": {
      "text/html": [
       "<pre style=\"white-space:pre;overflow-x:auto;line-height:normal;font-family:Menlo,'DejaVu Sans Mono',consolas,'Courier New',monospace\"><span style=\"color: #7fbfbf; text-decoration-color: #7fbfbf\">[2022-06-27 22:31:46] </span><span style=\"color: #008000; text-decoration-color: #008000\">DEBUG   </span> <span style=\"color: #0000ff; text-decoration-color: #0000ff; text-decoration: underline\">https://ridb.recreation.gov:443</span> <span style=\"color: #008000; text-decoration-color: #008000\">\"</span><span style=\"color: #808000; text-decoration-color: #808000; font-weight: bold\">GET</span><span style=\"color: #008000; text-decoration-color: #008000\"> </span>                         \n",
       "<span style=\"color: #7fbfbf; text-decoration-color: #7fbfbf\">                      </span>         <span style=\"color: #008000; text-decoration-color: #008000\">/api/v1/facilities/251869/campsites/?limit=50&amp;offset=100 </span>     \n",
       "<span style=\"color: #7fbfbf; text-decoration-color: #7fbfbf\">                      </span>         <span style=\"color: #008000; text-decoration-color: #008000\">HTTP/1.1\"</span> <span style=\"color: #008080; text-decoration-color: #008080; font-weight: bold\">404</span> <span style=\"color: #008080; text-decoration-color: #008080; font-weight: bold\">19</span>                                              \n",
       "</pre>\n"
      ],
      "text/plain": [
       "\u001b[2;36m[2022-06-27 22:31:46]\u001b[0m\u001b[2;36m \u001b[0m\u001b[32mDEBUG   \u001b[0m \u001b[4;94mhttps://ridb.recreation.gov:443\u001b[0m \u001b[32m\"\u001b[0m\u001b[1;33mGET\u001b[0m\u001b[32m \u001b[0m                         \n",
       "\u001b[2;36m                      \u001b[0m         \u001b[32m/api/v1/facilities/251869/campsites/?\u001b[0m\u001b[32mlimit\u001b[0m\u001b[32m=\u001b[0m\u001b[32m50\u001b[0m\u001b[32m&\u001b[0m\u001b[32moffset\u001b[0m\u001b[32m=\u001b[0m\u001b[32m100\u001b[0m\u001b[32m \u001b[0m     \n",
       "\u001b[2;36m                      \u001b[0m         \u001b[32mHTTP/1.1\"\u001b[0m \u001b[1;36m404\u001b[0m \u001b[1;36m19\u001b[0m                                              \n"
      ]
     },
     "metadata": {},
     "output_type": "display_data"
    },
    {
     "data": {
      "text/html": [
       "<pre style=\"white-space:pre;overflow-x:auto;line-height:normal;font-family:Menlo,'DejaVu Sans Mono',consolas,'Courier New',monospace\"><span style=\"color: #7fbfbf; text-decoration-color: #7fbfbf\">[2022-06-27 22:31:46] </span><span style=\"color: #800000; text-decoration-color: #800000; font-weight: bold\">ERROR   </span> Receiving bad data from Recreation.gov API: <span style=\"color: #008080; text-decoration-color: #008080; font-weight: bold\">404</span> page not found\n",
       "<span style=\"color: #7fbfbf; text-decoration-color: #7fbfbf\">                      </span>                                                                       \n",
       "</pre>\n"
      ],
      "text/plain": [
       "\u001b[2;36m[2022-06-27 22:31:46]\u001b[0m\u001b[2;36m \u001b[0m\u001b[1;31mERROR   \u001b[0m Receiving bad data from Recreation.gov API: \u001b[1;36m404\u001b[0m page not found\n",
       "\u001b[2;36m                      \u001b[0m                                                                       \n"
      ]
     },
     "metadata": {},
     "output_type": "display_data"
    },
    {
     "data": {
      "text/html": [
       "<pre style=\"white-space:pre;overflow-x:auto;line-height:normal;font-family:Menlo,'DejaVu Sans Mono',consolas,'Courier New',monospace\"><span style=\"color: #7fbfbf; text-decoration-color: #7fbfbf\">[2022-06-27 22:31:49] </span><span style=\"color: #008000; text-decoration-color: #008000\">DEBUG   </span> Starting new HTTPS connection <span style=\"font-weight: bold\">(</span><span style=\"color: #008080; text-decoration-color: #008080; font-weight: bold\">1</span><span style=\"font-weight: bold\">)</span>: ridb.recreation.gov:<span style=\"color: #008080; text-decoration-color: #008080; font-weight: bold\">443</span>    \n",
       "</pre>\n"
      ],
      "text/plain": [
       "\u001b[2;36m[2022-06-27 22:31:49]\u001b[0m\u001b[2;36m \u001b[0m\u001b[32mDEBUG   \u001b[0m Starting new HTTPS connection \u001b[1m(\u001b[0m\u001b[1;36m1\u001b[0m\u001b[1m)\u001b[0m: ridb.recreation.gov:\u001b[1;36m443\u001b[0m    \n"
      ]
     },
     "metadata": {},
     "output_type": "display_data"
    },
    {
     "data": {
      "text/html": [
       "<pre style=\"white-space:pre;overflow-x:auto;line-height:normal;font-family:Menlo,'DejaVu Sans Mono',consolas,'Courier New',monospace\"><span style=\"color: #7fbfbf; text-decoration-color: #7fbfbf\">[2022-06-27 22:31:49] </span><span style=\"color: #008000; text-decoration-color: #008000\">DEBUG   </span> <span style=\"color: #0000ff; text-decoration-color: #0000ff; text-decoration: underline\">https://ridb.recreation.gov:443</span> <span style=\"color: #008000; text-decoration-color: #008000\">\"</span><span style=\"color: #808000; text-decoration-color: #808000; font-weight: bold\">GET</span><span style=\"color: #008000; text-decoration-color: #008000\"> </span>                         \n",
       "<span style=\"color: #7fbfbf; text-decoration-color: #7fbfbf\">                      </span>         <span style=\"color: #008000; text-decoration-color: #008000\">/api/v1/facilities/251869/campsites/?limit=50&amp;offset=100 </span>     \n",
       "<span style=\"color: #7fbfbf; text-decoration-color: #7fbfbf\">                      </span>         <span style=\"color: #008000; text-decoration-color: #008000\">HTTP/1.1\"</span> <span style=\"color: #008080; text-decoration-color: #008080; font-weight: bold\">404</span> <span style=\"color: #008080; text-decoration-color: #008080; font-weight: bold\">19</span>                                              \n",
       "</pre>\n"
      ],
      "text/plain": [
       "\u001b[2;36m[2022-06-27 22:31:49]\u001b[0m\u001b[2;36m \u001b[0m\u001b[32mDEBUG   \u001b[0m \u001b[4;94mhttps://ridb.recreation.gov:443\u001b[0m \u001b[32m\"\u001b[0m\u001b[1;33mGET\u001b[0m\u001b[32m \u001b[0m                         \n",
       "\u001b[2;36m                      \u001b[0m         \u001b[32m/api/v1/facilities/251869/campsites/?\u001b[0m\u001b[32mlimit\u001b[0m\u001b[32m=\u001b[0m\u001b[32m50\u001b[0m\u001b[32m&\u001b[0m\u001b[32moffset\u001b[0m\u001b[32m=\u001b[0m\u001b[32m100\u001b[0m\u001b[32m \u001b[0m     \n",
       "\u001b[2;36m                      \u001b[0m         \u001b[32mHTTP/1.1\"\u001b[0m \u001b[1;36m404\u001b[0m \u001b[1;36m19\u001b[0m                                              \n"
      ]
     },
     "metadata": {},
     "output_type": "display_data"
    },
    {
     "data": {
      "text/html": [
       "<pre style=\"white-space:pre;overflow-x:auto;line-height:normal;font-family:Menlo,'DejaVu Sans Mono',consolas,'Courier New',monospace\"><span style=\"color: #7fbfbf; text-decoration-color: #7fbfbf\">[2022-06-27 22:31:49] </span><span style=\"color: #800000; text-decoration-color: #800000; font-weight: bold\">ERROR   </span> Receiving bad data from Recreation.gov API: <span style=\"color: #008080; text-decoration-color: #008080; font-weight: bold\">404</span> page not found\n",
       "<span style=\"color: #7fbfbf; text-decoration-color: #7fbfbf\">                      </span>                                                                       \n",
       "</pre>\n"
      ],
      "text/plain": [
       "\u001b[2;36m[2022-06-27 22:31:49]\u001b[0m\u001b[2;36m \u001b[0m\u001b[1;31mERROR   \u001b[0m Receiving bad data from Recreation.gov API: \u001b[1;36m404\u001b[0m page not found\n",
       "\u001b[2;36m                      \u001b[0m                                                                       \n"
      ]
     },
     "metadata": {},
     "output_type": "display_data"
    },
    {
     "data": {
      "text/html": [
       "<pre style=\"white-space:pre;overflow-x:auto;line-height:normal;font-family:Menlo,'DejaVu Sans Mono',consolas,'Courier New',monospace\"><span style=\"color: #7fbfbf; text-decoration-color: #7fbfbf\">[2022-06-27 22:31:50] </span><span style=\"color: #008000; text-decoration-color: #008000\">DEBUG   </span> Starting new HTTPS connection <span style=\"font-weight: bold\">(</span><span style=\"color: #008080; text-decoration-color: #008080; font-weight: bold\">1</span><span style=\"font-weight: bold\">)</span>: ridb.recreation.gov:<span style=\"color: #008080; text-decoration-color: #008080; font-weight: bold\">443</span>    \n",
       "</pre>\n"
      ],
      "text/plain": [
       "\u001b[2;36m[2022-06-27 22:31:50]\u001b[0m\u001b[2;36m \u001b[0m\u001b[32mDEBUG   \u001b[0m Starting new HTTPS connection \u001b[1m(\u001b[0m\u001b[1;36m1\u001b[0m\u001b[1m)\u001b[0m: ridb.recreation.gov:\u001b[1;36m443\u001b[0m    \n"
      ]
     },
     "metadata": {},
     "output_type": "display_data"
    },
    {
     "data": {
      "text/html": [
       "<pre style=\"white-space:pre;overflow-x:auto;line-height:normal;font-family:Menlo,'DejaVu Sans Mono',consolas,'Courier New',monospace\"><span style=\"color: #7fbfbf; text-decoration-color: #7fbfbf\">[2022-06-27 22:31:50] </span><span style=\"color: #008000; text-decoration-color: #008000\">DEBUG   </span> <span style=\"color: #0000ff; text-decoration-color: #0000ff; text-decoration: underline\">https://ridb.recreation.gov:443</span> <span style=\"color: #008000; text-decoration-color: #008000\">\"</span><span style=\"color: #808000; text-decoration-color: #808000; font-weight: bold\">GET</span><span style=\"color: #008000; text-decoration-color: #008000\"> </span>                         \n",
       "<span style=\"color: #7fbfbf; text-decoration-color: #7fbfbf\">                      </span>         <span style=\"color: #008000; text-decoration-color: #008000\">/api/v1/facilities/251869/campsites/?limit=50&amp;offset=100 </span>     \n",
       "<span style=\"color: #7fbfbf; text-decoration-color: #7fbfbf\">                      </span>         <span style=\"color: #008000; text-decoration-color: #008000\">HTTP/1.1\"</span> <span style=\"color: #008080; text-decoration-color: #008080; font-weight: bold\">404</span> <span style=\"color: #008080; text-decoration-color: #008080; font-weight: bold\">19</span>                                              \n",
       "</pre>\n"
      ],
      "text/plain": [
       "\u001b[2;36m[2022-06-27 22:31:50]\u001b[0m\u001b[2;36m \u001b[0m\u001b[32mDEBUG   \u001b[0m \u001b[4;94mhttps://ridb.recreation.gov:443\u001b[0m \u001b[32m\"\u001b[0m\u001b[1;33mGET\u001b[0m\u001b[32m \u001b[0m                         \n",
       "\u001b[2;36m                      \u001b[0m         \u001b[32m/api/v1/facilities/251869/campsites/?\u001b[0m\u001b[32mlimit\u001b[0m\u001b[32m=\u001b[0m\u001b[32m50\u001b[0m\u001b[32m&\u001b[0m\u001b[32moffset\u001b[0m\u001b[32m=\u001b[0m\u001b[32m100\u001b[0m\u001b[32m \u001b[0m     \n",
       "\u001b[2;36m                      \u001b[0m         \u001b[32mHTTP/1.1\"\u001b[0m \u001b[1;36m404\u001b[0m \u001b[1;36m19\u001b[0m                                              \n"
      ]
     },
     "metadata": {},
     "output_type": "display_data"
    },
    {
     "data": {
      "text/html": [
       "<pre style=\"white-space:pre;overflow-x:auto;line-height:normal;font-family:Menlo,'DejaVu Sans Mono',consolas,'Courier New',monospace\"><span style=\"color: #7fbfbf; text-decoration-color: #7fbfbf\">[2022-06-27 22:31:50] </span><span style=\"color: #800000; text-decoration-color: #800000; font-weight: bold\">ERROR   </span> Receiving bad data from Recreation.gov API: <span style=\"color: #008080; text-decoration-color: #008080; font-weight: bold\">404</span> page not found\n",
       "<span style=\"color: #7fbfbf; text-decoration-color: #7fbfbf\">                      </span>                                                                       \n",
       "</pre>\n"
      ],
      "text/plain": [
       "\u001b[2;36m[2022-06-27 22:31:50]\u001b[0m\u001b[2;36m \u001b[0m\u001b[1;31mERROR   \u001b[0m Receiving bad data from Recreation.gov API: \u001b[1;36m404\u001b[0m page not found\n",
       "\u001b[2;36m                      \u001b[0m                                                                       \n"
      ]
     },
     "metadata": {},
     "output_type": "display_data"
    },
    {
     "data": {
      "text/html": [
       "<pre style=\"white-space:pre;overflow-x:auto;line-height:normal;font-family:Menlo,'DejaVu Sans Mono',consolas,'Courier New',monospace\"><span style=\"color: #7fbfbf; text-decoration-color: #7fbfbf\">[2022-06-27 22:31:59] </span><span style=\"color: #008000; text-decoration-color: #008000\">DEBUG   </span> Starting new HTTPS connection <span style=\"font-weight: bold\">(</span><span style=\"color: #008080; text-decoration-color: #008080; font-weight: bold\">1</span><span style=\"font-weight: bold\">)</span>: ridb.recreation.gov:<span style=\"color: #008080; text-decoration-color: #008080; font-weight: bold\">443</span>    \n",
       "</pre>\n"
      ],
      "text/plain": [
       "\u001b[2;36m[2022-06-27 22:31:59]\u001b[0m\u001b[2;36m \u001b[0m\u001b[32mDEBUG   \u001b[0m Starting new HTTPS connection \u001b[1m(\u001b[0m\u001b[1;36m1\u001b[0m\u001b[1m)\u001b[0m: ridb.recreation.gov:\u001b[1;36m443\u001b[0m    \n"
      ]
     },
     "metadata": {},
     "output_type": "display_data"
    },
    {
     "data": {
      "text/html": [
       "<pre style=\"white-space:pre;overflow-x:auto;line-height:normal;font-family:Menlo,'DejaVu Sans Mono',consolas,'Courier New',monospace\"><span style=\"color: #7fbfbf; text-decoration-color: #7fbfbf\">[2022-06-27 22:32:00] </span><span style=\"color: #008000; text-decoration-color: #008000\">DEBUG   </span> <span style=\"color: #0000ff; text-decoration-color: #0000ff; text-decoration: underline\">https://ridb.recreation.gov:443</span> <span style=\"color: #008000; text-decoration-color: #008000\">\"</span><span style=\"color: #808000; text-decoration-color: #808000; font-weight: bold\">GET</span><span style=\"color: #008000; text-decoration-color: #008000\"> </span>                         \n",
       "<span style=\"color: #7fbfbf; text-decoration-color: #7fbfbf\">                      </span>         <span style=\"color: #008000; text-decoration-color: #008000\">/api/v1/facilities/251869/campsites/?limit=50&amp;offset=100 </span>     \n",
       "<span style=\"color: #7fbfbf; text-decoration-color: #7fbfbf\">                      </span>         <span style=\"color: #008000; text-decoration-color: #008000\">HTTP/1.1\"</span> <span style=\"color: #008080; text-decoration-color: #008080; font-weight: bold\">404</span> <span style=\"color: #008080; text-decoration-color: #008080; font-weight: bold\">19</span>                                              \n",
       "</pre>\n"
      ],
      "text/plain": [
       "\u001b[2;36m[2022-06-27 22:32:00]\u001b[0m\u001b[2;36m \u001b[0m\u001b[32mDEBUG   \u001b[0m \u001b[4;94mhttps://ridb.recreation.gov:443\u001b[0m \u001b[32m\"\u001b[0m\u001b[1;33mGET\u001b[0m\u001b[32m \u001b[0m                         \n",
       "\u001b[2;36m                      \u001b[0m         \u001b[32m/api/v1/facilities/251869/campsites/?\u001b[0m\u001b[32mlimit\u001b[0m\u001b[32m=\u001b[0m\u001b[32m50\u001b[0m\u001b[32m&\u001b[0m\u001b[32moffset\u001b[0m\u001b[32m=\u001b[0m\u001b[32m100\u001b[0m\u001b[32m \u001b[0m     \n",
       "\u001b[2;36m                      \u001b[0m         \u001b[32mHTTP/1.1\"\u001b[0m \u001b[1;36m404\u001b[0m \u001b[1;36m19\u001b[0m                                              \n"
      ]
     },
     "metadata": {},
     "output_type": "display_data"
    },
    {
     "data": {
      "text/html": [
       "<pre style=\"white-space:pre;overflow-x:auto;line-height:normal;font-family:Menlo,'DejaVu Sans Mono',consolas,'Courier New',monospace\"><span style=\"color: #7fbfbf; text-decoration-color: #7fbfbf\">[2022-06-27 22:32:00] </span><span style=\"color: #800000; text-decoration-color: #800000; font-weight: bold\">ERROR   </span> Receiving bad data from Recreation.gov API: <span style=\"color: #008080; text-decoration-color: #008080; font-weight: bold\">404</span> page not found\n",
       "<span style=\"color: #7fbfbf; text-decoration-color: #7fbfbf\">                      </span>                                                                       \n",
       "</pre>\n"
      ],
      "text/plain": [
       "\u001b[2;36m[2022-06-27 22:32:00]\u001b[0m\u001b[2;36m \u001b[0m\u001b[1;31mERROR   \u001b[0m Receiving bad data from Recreation.gov API: \u001b[1;36m404\u001b[0m page not found\n",
       "\u001b[2;36m                      \u001b[0m                                                                       \n"
      ]
     },
     "metadata": {},
     "output_type": "display_data"
    },
    {
     "ename": "RetryError",
     "evalue": "RetryError[<Future at 0x12557efa0 state=finished raised ConnectionError>]",
     "output_type": "error",
     "traceback": [
      "\u001b[0;31m---------------------------------------------------------------------------\u001b[0m",
      "\u001b[0;31mAssertionError\u001b[0m                            Traceback (most recent call last)",
      "File \u001b[0;32m~/git/camply/camply/providers/recreation_dot_gov/campsite_search.py:313\u001b[0m, in \u001b[0;36m_ridb_get_data\u001b[0;34m(self, path, params)\u001b[0m\n\u001b[1;32m    310\u001b[0m response \u001b[38;5;241m=\u001b[39m requests\u001b[38;5;241m.\u001b[39mget(\n\u001b[1;32m    311\u001b[0m     url\u001b[38;5;241m=\u001b[39mapi_endpoint, headers\u001b[38;5;241m=\u001b[39mheaders, params\u001b[38;5;241m=\u001b[39mparams, timeout\u001b[38;5;241m=\u001b[39m\u001b[38;5;241m30\u001b[39m\n\u001b[1;32m    312\u001b[0m )\n\u001b[0;32m--> 313\u001b[0m \u001b[38;5;28;01mtry\u001b[39;00m:\n\u001b[1;32m    314\u001b[0m     \u001b[38;5;28;01massert\u001b[39;00m response\u001b[38;5;241m.\u001b[39mstatus_code \u001b[38;5;241m==\u001b[39m \u001b[38;5;241m200\u001b[39m\n",
      "\u001b[0;31mAssertionError\u001b[0m: ",
      "\nDuring handling of the above exception, another exception occurred:\n",
      "\u001b[0;31mConnectionError\u001b[0m                           Traceback (most recent call last)",
      "File \u001b[0;32m~/git/camply/venv/lib/python3.8/site-packages/tenacity/__init__.py:407\u001b[0m, in \u001b[0;36mRetrying.__call__\u001b[0;34m(self, fn, *args, **kwargs)\u001b[0m\n\u001b[1;32m    406\u001b[0m \u001b[38;5;28;01mtry\u001b[39;00m:\n\u001b[0;32m--> 407\u001b[0m     result \u001b[38;5;241m=\u001b[39m \u001b[43mfn\u001b[49m\u001b[43m(\u001b[49m\u001b[38;5;241;43m*\u001b[39;49m\u001b[43margs\u001b[49m\u001b[43m,\u001b[49m\u001b[43m \u001b[49m\u001b[38;5;241;43m*\u001b[39;49m\u001b[38;5;241;43m*\u001b[39;49m\u001b[43mkwargs\u001b[49m\u001b[43m)\u001b[49m\n\u001b[1;32m    408\u001b[0m \u001b[38;5;28;01mexcept\u001b[39;00m \u001b[38;5;167;01mBaseException\u001b[39;00m:  \u001b[38;5;66;03m# noqa: B902\u001b[39;00m\n",
      "File \u001b[0;32m~/git/camply/camply/providers/recreation_dot_gov/campsite_search.py:319\u001b[0m, in \u001b[0;36m_ridb_get_data\u001b[0;34m(self, path, params)\u001b[0m\n\u001b[1;32m    316\u001b[0m error_message \u001b[38;5;241m=\u001b[39m (\n\u001b[1;32m    317\u001b[0m     \u001b[38;5;124mf\u001b[39m\u001b[38;5;124m\"\u001b[39m\u001b[38;5;124mReceiving bad data from Recreation.gov API: \u001b[39m\u001b[38;5;132;01m{\u001b[39;00mresponse\u001b[38;5;241m.\u001b[39mtext\u001b[38;5;132;01m}\u001b[39;00m\u001b[38;5;124m\"\u001b[39m\n\u001b[1;32m    318\u001b[0m )\n\u001b[0;32m--> 319\u001b[0m logger\u001b[38;5;241m.\u001b[39merror(error_message)\n\u001b[1;32m    320\u001b[0m \u001b[38;5;28;01mraise\u001b[39;00m \u001b[38;5;167;01mConnectionError\u001b[39;00m(error_message)\n",
      "\u001b[0;31mConnectionError\u001b[0m: Receiving bad data from Recreation.gov API: 404 page not found\n",
      "\nThe above exception was the direct cause of the following exception:\n",
      "\u001b[0;31mRetryError\u001b[0m                                Traceback (most recent call last)",
      "Input \u001b[0;32mIn [20]\u001b[0m, in \u001b[0;36m<cell line: 2>\u001b[0;34m()\u001b[0m\n\u001b[1;32m      1\u001b[0m related_campsites \u001b[38;5;241m=\u001b[39m []\n\u001b[1;32m      2\u001b[0m \u001b[38;5;28;01mfor\u001b[39;00m facil \u001b[38;5;129;01min\u001b[39;00m facilities:\n\u001b[0;32m----> 3\u001b[0m     related_campsites \u001b[38;5;241m+\u001b[39m\u001b[38;5;241m=\u001b[39m \u001b[43mrdg\u001b[49m\u001b[38;5;241;43m.\u001b[39;49m\u001b[43mget_campsites_by_facility\u001b[49m\u001b[43m(\u001b[49m\u001b[43mfacility_id\u001b[49m\u001b[38;5;241;43m=\u001b[39;49m\u001b[43mfacil\u001b[49m\u001b[38;5;241;43m.\u001b[39;49m\u001b[43mfacility_id\u001b[49m\u001b[43m)\u001b[49m\n",
      "File \u001b[0;32m~/git/camply/camply/providers/recreation_dot_gov/campsite_search.py:679\u001b[0m, in \u001b[0;36mRecreationDotGov.get_campsites_by_facility\u001b[0;34m(self, facility_id)\u001b[0m\n\u001b[1;32m    667\u001b[0m \u001b[38;5;28;01mdef\u001b[39;00m \u001b[38;5;21mget_campsites_by_facility\u001b[39m(\u001b[38;5;28mself\u001b[39m, facility_id: \u001b[38;5;28mint\u001b[39m) \u001b[38;5;241m-\u001b[39m\u001b[38;5;241m>\u001b[39m List[CampsiteResponse]:\n\u001b[1;32m    668\u001b[0m     \u001b[38;5;124;03m\"\"\"\u001b[39;00m\n\u001b[1;32m    669\u001b[0m \u001b[38;5;124;03m    Get a Campsite's Details\u001b[39;00m\n\u001b[1;32m    670\u001b[0m \n\u001b[0;32m   (...)\u001b[0m\n\u001b[1;32m    677\u001b[0m \u001b[38;5;124;03m    CampsiteResponse\u001b[39;00m\n\u001b[1;32m    678\u001b[0m \u001b[38;5;124;03m    \"\"\"\u001b[39;00m\n\u001b[0;32m--> 679\u001b[0m     data \u001b[38;5;241m=\u001b[39m \u001b[38;5;28;43mself\u001b[39;49m\u001b[38;5;241;43m.\u001b[39;49m\u001b[43m_ridb_get_paginate\u001b[49m\u001b[43m(\u001b[49m\u001b[43mpath\u001b[49m\u001b[38;5;241;43m=\u001b[39;49m\u001b[38;5;124;43mf\u001b[39;49m\u001b[38;5;124;43m\"\u001b[39;49m\u001b[38;5;132;43;01m{\u001b[39;49;00m\u001b[43mRIDBConfig\u001b[49m\u001b[38;5;241;43m.\u001b[39;49m\u001b[43mFACILITIES_API_PATH\u001b[49m\u001b[38;5;132;43;01m}\u001b[39;49;00m\u001b[38;5;124;43m/\u001b[39;49m\u001b[38;5;132;43;01m{\u001b[39;49;00m\u001b[43mfacility_id\u001b[49m\u001b[38;5;132;43;01m}\u001b[39;49;00m\u001b[38;5;124;43m/\u001b[39;49m\u001b[38;5;124;43m\"\u001b[39;49m\n\u001b[1;32m    680\u001b[0m \u001b[43m                                        \u001b[49m\u001b[38;5;124;43mf\u001b[39;49m\u001b[38;5;124;43m\"\u001b[39;49m\u001b[38;5;132;43;01m{\u001b[39;49;00m\u001b[43mRIDBConfig\u001b[49m\u001b[38;5;241;43m.\u001b[39;49m\u001b[43mCAMPSITE_API_PATH\u001b[49m\u001b[38;5;132;43;01m}\u001b[39;49;00m\u001b[38;5;124;43m/\u001b[39;49m\u001b[38;5;124;43m\"\u001b[39;49m\u001b[43m,\u001b[49m\n\u001b[1;32m    681\u001b[0m \u001b[43m                                   \u001b[49m\u001b[43mparams\u001b[49m\u001b[38;5;241;43m=\u001b[39;49m\u001b[38;5;28;43mdict\u001b[39;49m\u001b[43m(\u001b[49m\u001b[43mlimit\u001b[49m\u001b[38;5;241;43m=\u001b[39;49m\u001b[38;5;241;43m50\u001b[39;49m\u001b[43m)\u001b[49m\u001b[43m)\u001b[49m\n\u001b[1;32m    682\u001b[0m     \u001b[38;5;28;01mreturn\u001b[39;00m [CampsiteResponse(\u001b[38;5;241m*\u001b[39m\u001b[38;5;241m*\u001b[39mrecord) \u001b[38;5;28;01mfor\u001b[39;00m record \u001b[38;5;129;01min\u001b[39;00m data]\n",
      "File \u001b[0;32m~/git/camply/camply/providers/recreation_dot_gov/campsite_search.py:350\u001b[0m, in \u001b[0;36m_ridb_get_paginate\u001b[0;34m(self, path, params)\u001b[0m\n\u001b[1;32m    347\u001b[0m historical_results \u001b[38;5;241m=\u001b[39m \u001b[38;5;241m0\u001b[39m\n\u001b[1;32m    349\u001b[0m \u001b[38;5;28;01mwhile\u001b[39;00m data_incomplete \u001b[38;5;129;01mis\u001b[39;00m \u001b[38;5;28;01mTrue\u001b[39;00m:\n\u001b[0;32m--> 350\u001b[0m     params\u001b[38;5;241m.\u001b[39mupdate(offset\u001b[38;5;241m=\u001b[39moffset)\n\u001b[1;32m    351\u001b[0m     data_response \u001b[38;5;241m=\u001b[39m \u001b[38;5;28mself\u001b[39m\u001b[38;5;241m.\u001b[39m_ridb_get_data(path\u001b[38;5;241m=\u001b[39mpath, params\u001b[38;5;241m=\u001b[39mparams)\n\u001b[1;32m    352\u001b[0m     response_object \u001b[38;5;241m=\u001b[39m GenericResponse(\u001b[38;5;241m*\u001b[39m\u001b[38;5;241m*\u001b[39mdata_response)\n",
      "File \u001b[0;32m~/git/camply/venv/lib/python3.8/site-packages/tenacity/__init__.py:324\u001b[0m, in \u001b[0;36mBaseRetrying.wraps.<locals>.wrapped_f\u001b[0;34m(*args, **kw)\u001b[0m\n\u001b[1;32m    322\u001b[0m \u001b[38;5;129m@functools\u001b[39m\u001b[38;5;241m.\u001b[39mwraps(f)\n\u001b[1;32m    323\u001b[0m \u001b[38;5;28;01mdef\u001b[39;00m \u001b[38;5;21mwrapped_f\u001b[39m(\u001b[38;5;241m*\u001b[39margs: t\u001b[38;5;241m.\u001b[39mAny, \u001b[38;5;241m*\u001b[39m\u001b[38;5;241m*\u001b[39mkw: t\u001b[38;5;241m.\u001b[39mAny) \u001b[38;5;241m-\u001b[39m\u001b[38;5;241m>\u001b[39m t\u001b[38;5;241m.\u001b[39mAny:\n\u001b[0;32m--> 324\u001b[0m     \u001b[38;5;28;01mreturn\u001b[39;00m \u001b[38;5;28;43mself\u001b[39;49m\u001b[43m(\u001b[49m\u001b[43mf\u001b[49m\u001b[43m,\u001b[49m\u001b[43m \u001b[49m\u001b[38;5;241;43m*\u001b[39;49m\u001b[43margs\u001b[49m\u001b[43m,\u001b[49m\u001b[43m \u001b[49m\u001b[38;5;241;43m*\u001b[39;49m\u001b[38;5;241;43m*\u001b[39;49m\u001b[43mkw\u001b[49m\u001b[43m)\u001b[49m\n",
      "File \u001b[0;32m~/git/camply/venv/lib/python3.8/site-packages/tenacity/__init__.py:404\u001b[0m, in \u001b[0;36mRetrying.__call__\u001b[0;34m(self, fn, *args, **kwargs)\u001b[0m\n\u001b[1;32m    402\u001b[0m retry_state \u001b[38;5;241m=\u001b[39m RetryCallState(retry_object\u001b[38;5;241m=\u001b[39m\u001b[38;5;28mself\u001b[39m, fn\u001b[38;5;241m=\u001b[39mfn, args\u001b[38;5;241m=\u001b[39margs, kwargs\u001b[38;5;241m=\u001b[39mkwargs)\n\u001b[1;32m    403\u001b[0m \u001b[38;5;28;01mwhile\u001b[39;00m \u001b[38;5;28;01mTrue\u001b[39;00m:\n\u001b[0;32m--> 404\u001b[0m     do \u001b[38;5;241m=\u001b[39m \u001b[38;5;28;43mself\u001b[39;49m\u001b[38;5;241;43m.\u001b[39;49m\u001b[43miter\u001b[49m\u001b[43m(\u001b[49m\u001b[43mretry_state\u001b[49m\u001b[38;5;241;43m=\u001b[39;49m\u001b[43mretry_state\u001b[49m\u001b[43m)\u001b[49m\n\u001b[1;32m    405\u001b[0m     \u001b[38;5;28;01mif\u001b[39;00m \u001b[38;5;28misinstance\u001b[39m(do, DoAttempt):\n\u001b[1;32m    406\u001b[0m         \u001b[38;5;28;01mtry\u001b[39;00m:\n",
      "File \u001b[0;32m~/git/camply/venv/lib/python3.8/site-packages/tenacity/__init__.py:361\u001b[0m, in \u001b[0;36mBaseRetrying.iter\u001b[0;34m(self, retry_state)\u001b[0m\n\u001b[1;32m    359\u001b[0m     \u001b[38;5;28;01mif\u001b[39;00m \u001b[38;5;28mself\u001b[39m\u001b[38;5;241m.\u001b[39mreraise:\n\u001b[1;32m    360\u001b[0m         \u001b[38;5;28;01mraise\u001b[39;00m retry_exc\u001b[38;5;241m.\u001b[39mreraise()\n\u001b[0;32m--> 361\u001b[0m     \u001b[38;5;28;01mraise\u001b[39;00m retry_exc \u001b[38;5;28;01mfrom\u001b[39;00m \u001b[38;5;21;01mfut\u001b[39;00m\u001b[38;5;21;01m.\u001b[39;00m\u001b[38;5;21;01mexception\u001b[39;00m()\n\u001b[1;32m    363\u001b[0m \u001b[38;5;28;01mif\u001b[39;00m \u001b[38;5;28mself\u001b[39m\u001b[38;5;241m.\u001b[39mwait:\n\u001b[1;32m    364\u001b[0m     sleep \u001b[38;5;241m=\u001b[39m \u001b[38;5;28mself\u001b[39m\u001b[38;5;241m.\u001b[39mwait(retry_state\u001b[38;5;241m=\u001b[39mretry_state)\n",
      "\u001b[0;31mRetryError\u001b[0m: RetryError[<Future at 0x12557efa0 state=finished raised ConnectionError>]"
     ]
    }
   ],
   "source": [
    "related_campsites = []\n",
    "for facil in facilities:\n",
    "    related_campsites += rdg.get_campsites_by_facility(facility_id=facil.facility_id)"
   ]
  },
  {
   "cell_type": "code",
   "execution_count": 14,
   "id": "147536bb-d037-49d8-8193-e3cd0e63dd2d",
   "metadata": {},
   "outputs": [
    {
     "data": {
      "text/plain": [
       "654"
      ]
     },
     "execution_count": 14,
     "metadata": {},
     "output_type": "execute_result"
    }
   ],
   "source": [
    "len(related_campsites)"
   ]
  },
  {
   "cell_type": "code",
   "execution_count": 15,
   "id": "be9bd137-2c9f-4dd6-a2ba-fdace30f5361",
   "metadata": {},
   "outputs": [
    {
     "data": {
      "text/plain": [
       "[_CampsiteEquipment(EquipmentName='Tent', MaxLength=0.0),\n",
       " _CampsiteEquipment(EquipmentName='RV', MaxLength=25.0),\n",
       " _CampsiteEquipment(EquipmentName='Trailer', MaxLength=25.0)]"
      ]
     },
     "execution_count": 15,
     "metadata": {},
     "output_type": "execute_result"
    }
   ],
   "source": [
    "related_campsites[0].PERMITTEDEQUIPMENT"
   ]
  },
  {
   "cell_type": "code",
   "execution_count": 17,
   "id": "1867d463-022a-496e-a810-bcba17a34d89",
   "metadata": {},
   "outputs": [
    {
     "data": {
      "text/plain": [
       "{_CampsiteEquipment(EquipmentName='CAR', MaxLength=0.0),\n",
       " _CampsiteEquipment(EquipmentName='CAR', MaxLength=23.0),\n",
       " _CampsiteEquipment(EquipmentName='CAR', MaxLength=25.0),\n",
       " _CampsiteEquipment(EquipmentName='CAR', MaxLength=28.0),\n",
       " _CampsiteEquipment(EquipmentName='CARAVAN/CAMPER VAN', MaxLength=18.0),\n",
       " _CampsiteEquipment(EquipmentName='CARAVAN/CAMPER VAN', MaxLength=19.0),\n",
       " _CampsiteEquipment(EquipmentName='CARAVAN/CAMPER VAN', MaxLength=20.0),\n",
       " _CampsiteEquipment(EquipmentName='CARAVAN/CAMPER VAN', MaxLength=21.0),\n",
       " _CampsiteEquipment(EquipmentName='CARAVAN/CAMPER VAN', MaxLength=22.0),\n",
       " _CampsiteEquipment(EquipmentName='CARAVAN/CAMPER VAN', MaxLength=23.0),\n",
       " _CampsiteEquipment(EquipmentName='CARAVAN/CAMPER VAN', MaxLength=24.0),\n",
       " _CampsiteEquipment(EquipmentName='CARAVAN/CAMPER VAN', MaxLength=25.0),\n",
       " _CampsiteEquipment(EquipmentName='CARAVAN/CAMPER VAN', MaxLength=26.0),\n",
       " _CampsiteEquipment(EquipmentName='CARAVAN/CAMPER VAN', MaxLength=27.0),\n",
       " _CampsiteEquipment(EquipmentName='CARAVAN/CAMPER VAN', MaxLength=28.0),\n",
       " _CampsiteEquipment(EquipmentName='CARAVAN/CAMPER VAN', MaxLength=29.0),\n",
       " _CampsiteEquipment(EquipmentName='CARAVAN/CAMPER VAN', MaxLength=30.0),\n",
       " _CampsiteEquipment(EquipmentName='CARAVAN/CAMPER VAN', MaxLength=32.0),\n",
       " _CampsiteEquipment(EquipmentName='CARAVAN/CAMPER VAN', MaxLength=33.0),\n",
       " _CampsiteEquipment(EquipmentName='CARAVAN/CAMPER VAN', MaxLength=35.0),\n",
       " _CampsiteEquipment(EquipmentName='CARAVAN/CAMPER VAN', MaxLength=36.0),\n",
       " _CampsiteEquipment(EquipmentName='CARAVAN/CAMPER VAN', MaxLength=37.0),\n",
       " _CampsiteEquipment(EquipmentName='CARAVAN/CAMPER VAN', MaxLength=38.0),\n",
       " _CampsiteEquipment(EquipmentName='CARAVAN/CAMPER VAN', MaxLength=40.0),\n",
       " _CampsiteEquipment(EquipmentName='CARAVAN/CAMPER VAN', MaxLength=42.0),\n",
       " _CampsiteEquipment(EquipmentName='Hammock', MaxLength=0.0),\n",
       " _CampsiteEquipment(EquipmentName='LARGE TENT OVER 9X12`', MaxLength=0.0),\n",
       " _CampsiteEquipment(EquipmentName='PICKUP CAMPER', MaxLength=18.0),\n",
       " _CampsiteEquipment(EquipmentName='PICKUP CAMPER', MaxLength=19.0),\n",
       " _CampsiteEquipment(EquipmentName='PICKUP CAMPER', MaxLength=20.0),\n",
       " _CampsiteEquipment(EquipmentName='PICKUP CAMPER', MaxLength=21.0),\n",
       " _CampsiteEquipment(EquipmentName='PICKUP CAMPER', MaxLength=22.0),\n",
       " _CampsiteEquipment(EquipmentName='PICKUP CAMPER', MaxLength=23.0),\n",
       " _CampsiteEquipment(EquipmentName='PICKUP CAMPER', MaxLength=24.0),\n",
       " _CampsiteEquipment(EquipmentName='PICKUP CAMPER', MaxLength=25.0),\n",
       " _CampsiteEquipment(EquipmentName='PICKUP CAMPER', MaxLength=26.0),\n",
       " _CampsiteEquipment(EquipmentName='PICKUP CAMPER', MaxLength=27.0),\n",
       " _CampsiteEquipment(EquipmentName='PICKUP CAMPER', MaxLength=28.0),\n",
       " _CampsiteEquipment(EquipmentName='PICKUP CAMPER', MaxLength=29.0),\n",
       " _CampsiteEquipment(EquipmentName='PICKUP CAMPER', MaxLength=30.0),\n",
       " _CampsiteEquipment(EquipmentName='PICKUP CAMPER', MaxLength=32.0),\n",
       " _CampsiteEquipment(EquipmentName='PICKUP CAMPER', MaxLength=33.0),\n",
       " _CampsiteEquipment(EquipmentName='PICKUP CAMPER', MaxLength=35.0),\n",
       " _CampsiteEquipment(EquipmentName='PICKUP CAMPER', MaxLength=36.0),\n",
       " _CampsiteEquipment(EquipmentName='PICKUP CAMPER', MaxLength=37.0),\n",
       " _CampsiteEquipment(EquipmentName='PICKUP CAMPER', MaxLength=38.0),\n",
       " _CampsiteEquipment(EquipmentName='PICKUP CAMPER', MaxLength=40.0),\n",
       " _CampsiteEquipment(EquipmentName='PICKUP CAMPER', MaxLength=42.0),\n",
       " _CampsiteEquipment(EquipmentName='POP UP', MaxLength=0.0),\n",
       " _CampsiteEquipment(EquipmentName='POP UP', MaxLength=18.0),\n",
       " _CampsiteEquipment(EquipmentName='POP UP', MaxLength=19.0),\n",
       " _CampsiteEquipment(EquipmentName='POP UP', MaxLength=20.0),\n",
       " _CampsiteEquipment(EquipmentName='POP UP', MaxLength=21.0),\n",
       " _CampsiteEquipment(EquipmentName='POP UP', MaxLength=22.0),\n",
       " _CampsiteEquipment(EquipmentName='POP UP', MaxLength=23.0),\n",
       " _CampsiteEquipment(EquipmentName='POP UP', MaxLength=24.0),\n",
       " _CampsiteEquipment(EquipmentName='POP UP', MaxLength=25.0),\n",
       " _CampsiteEquipment(EquipmentName='POP UP', MaxLength=26.0),\n",
       " _CampsiteEquipment(EquipmentName='POP UP', MaxLength=27.0),\n",
       " _CampsiteEquipment(EquipmentName='POP UP', MaxLength=28.0),\n",
       " _CampsiteEquipment(EquipmentName='POP UP', MaxLength=29.0),\n",
       " _CampsiteEquipment(EquipmentName='POP UP', MaxLength=30.0),\n",
       " _CampsiteEquipment(EquipmentName='POP UP', MaxLength=32.0),\n",
       " _CampsiteEquipment(EquipmentName='POP UP', MaxLength=33.0),\n",
       " _CampsiteEquipment(EquipmentName='POP UP', MaxLength=35.0),\n",
       " _CampsiteEquipment(EquipmentName='POP UP', MaxLength=36.0),\n",
       " _CampsiteEquipment(EquipmentName='POP UP', MaxLength=37.0),\n",
       " _CampsiteEquipment(EquipmentName='POP UP', MaxLength=38.0),\n",
       " _CampsiteEquipment(EquipmentName='POP UP', MaxLength=40.0),\n",
       " _CampsiteEquipment(EquipmentName='POP UP', MaxLength=42.0),\n",
       " _CampsiteEquipment(EquipmentName='RV', MaxLength=0.0),\n",
       " _CampsiteEquipment(EquipmentName='RV', MaxLength=15.0),\n",
       " _CampsiteEquipment(EquipmentName='RV', MaxLength=18.0),\n",
       " _CampsiteEquipment(EquipmentName='RV', MaxLength=19.0),\n",
       " _CampsiteEquipment(EquipmentName='RV', MaxLength=20.0),\n",
       " _CampsiteEquipment(EquipmentName='RV', MaxLength=21.0),\n",
       " _CampsiteEquipment(EquipmentName='RV', MaxLength=22.0),\n",
       " _CampsiteEquipment(EquipmentName='RV', MaxLength=23.0),\n",
       " _CampsiteEquipment(EquipmentName='RV', MaxLength=24.0),\n",
       " _CampsiteEquipment(EquipmentName='RV', MaxLength=25.0),\n",
       " _CampsiteEquipment(EquipmentName='RV', MaxLength=26.0),\n",
       " _CampsiteEquipment(EquipmentName='RV', MaxLength=27.0),\n",
       " _CampsiteEquipment(EquipmentName='RV', MaxLength=28.0),\n",
       " _CampsiteEquipment(EquipmentName='RV', MaxLength=29.0),\n",
       " _CampsiteEquipment(EquipmentName='RV', MaxLength=30.0),\n",
       " _CampsiteEquipment(EquipmentName='RV', MaxLength=32.0),\n",
       " _CampsiteEquipment(EquipmentName='RV', MaxLength=33.0),\n",
       " _CampsiteEquipment(EquipmentName='RV', MaxLength=35.0),\n",
       " _CampsiteEquipment(EquipmentName='RV', MaxLength=36.0),\n",
       " _CampsiteEquipment(EquipmentName='RV', MaxLength=37.0),\n",
       " _CampsiteEquipment(EquipmentName='RV', MaxLength=38.0),\n",
       " _CampsiteEquipment(EquipmentName='RV', MaxLength=40.0),\n",
       " _CampsiteEquipment(EquipmentName='RV', MaxLength=42.0),\n",
       " _CampsiteEquipment(EquipmentName='RV/MOTORHOME', MaxLength=0.0),\n",
       " _CampsiteEquipment(EquipmentName='SMALL TENT', MaxLength=0.0),\n",
       " _CampsiteEquipment(EquipmentName='Tent', MaxLength=0.0),\n",
       " _CampsiteEquipment(EquipmentName='Tent', MaxLength=10.0),\n",
       " _CampsiteEquipment(EquipmentName='Tent', MaxLength=12.0),\n",
       " _CampsiteEquipment(EquipmentName='Tent', MaxLength=15.0),\n",
       " _CampsiteEquipment(EquipmentName='Tent', MaxLength=18.0),\n",
       " _CampsiteEquipment(EquipmentName='Tent', MaxLength=19.0),\n",
       " _CampsiteEquipment(EquipmentName='Tent', MaxLength=20.0),\n",
       " _CampsiteEquipment(EquipmentName='Tent', MaxLength=21.0),\n",
       " _CampsiteEquipment(EquipmentName='Tent', MaxLength=24.0),\n",
       " _CampsiteEquipment(EquipmentName='Tent', MaxLength=25.0),\n",
       " _CampsiteEquipment(EquipmentName='Tent', MaxLength=26.0),\n",
       " _CampsiteEquipment(EquipmentName='Tent', MaxLength=27.0),\n",
       " _CampsiteEquipment(EquipmentName='Tent', MaxLength=28.0),\n",
       " _CampsiteEquipment(EquipmentName='Tent', MaxLength=29.0),\n",
       " _CampsiteEquipment(EquipmentName='Tent', MaxLength=30.0),\n",
       " _CampsiteEquipment(EquipmentName='Tent', MaxLength=32.0),\n",
       " _CampsiteEquipment(EquipmentName='Tent', MaxLength=35.0),\n",
       " _CampsiteEquipment(EquipmentName='Tent', MaxLength=40.0),\n",
       " _CampsiteEquipment(EquipmentName='Trailer', MaxLength=0.0),\n",
       " _CampsiteEquipment(EquipmentName='Trailer', MaxLength=15.0),\n",
       " _CampsiteEquipment(EquipmentName='Trailer', MaxLength=18.0),\n",
       " _CampsiteEquipment(EquipmentName='Trailer', MaxLength=19.0),\n",
       " _CampsiteEquipment(EquipmentName='Trailer', MaxLength=20.0),\n",
       " _CampsiteEquipment(EquipmentName='Trailer', MaxLength=21.0),\n",
       " _CampsiteEquipment(EquipmentName='Trailer', MaxLength=22.0),\n",
       " _CampsiteEquipment(EquipmentName='Trailer', MaxLength=23.0),\n",
       " _CampsiteEquipment(EquipmentName='Trailer', MaxLength=24.0),\n",
       " _CampsiteEquipment(EquipmentName='Trailer', MaxLength=25.0),\n",
       " _CampsiteEquipment(EquipmentName='Trailer', MaxLength=26.0),\n",
       " _CampsiteEquipment(EquipmentName='Trailer', MaxLength=27.0),\n",
       " _CampsiteEquipment(EquipmentName='Trailer', MaxLength=28.0),\n",
       " _CampsiteEquipment(EquipmentName='Trailer', MaxLength=29.0),\n",
       " _CampsiteEquipment(EquipmentName='Trailer', MaxLength=30.0),\n",
       " _CampsiteEquipment(EquipmentName='Trailer', MaxLength=32.0),\n",
       " _CampsiteEquipment(EquipmentName='Trailer', MaxLength=33.0),\n",
       " _CampsiteEquipment(EquipmentName='Trailer', MaxLength=35.0),\n",
       " _CampsiteEquipment(EquipmentName='Trailer', MaxLength=36.0),\n",
       " _CampsiteEquipment(EquipmentName='Trailer', MaxLength=37.0),\n",
       " _CampsiteEquipment(EquipmentName='Trailer', MaxLength=38.0),\n",
       " _CampsiteEquipment(EquipmentName='Trailer', MaxLength=40.0),\n",
       " _CampsiteEquipment(EquipmentName='Trailer', MaxLength=42.0),\n",
       " _CampsiteEquipment(EquipmentName='VEHICLE', MaxLength=18.0),\n",
       " _CampsiteEquipment(EquipmentName='VEHICLE', MaxLength=19.0),\n",
       " _CampsiteEquipment(EquipmentName='VEHICLE', MaxLength=20.0),\n",
       " _CampsiteEquipment(EquipmentName='VEHICLE', MaxLength=21.0),\n",
       " _CampsiteEquipment(EquipmentName='VEHICLE', MaxLength=22.0),\n",
       " _CampsiteEquipment(EquipmentName='VEHICLE', MaxLength=23.0),\n",
       " _CampsiteEquipment(EquipmentName='VEHICLE', MaxLength=24.0),\n",
       " _CampsiteEquipment(EquipmentName='VEHICLE', MaxLength=25.0),\n",
       " _CampsiteEquipment(EquipmentName='VEHICLE', MaxLength=26.0),\n",
       " _CampsiteEquipment(EquipmentName='VEHICLE', MaxLength=27.0),\n",
       " _CampsiteEquipment(EquipmentName='VEHICLE', MaxLength=28.0),\n",
       " _CampsiteEquipment(EquipmentName='VEHICLE', MaxLength=29.0),\n",
       " _CampsiteEquipment(EquipmentName='VEHICLE', MaxLength=30.0),\n",
       " _CampsiteEquipment(EquipmentName='VEHICLE', MaxLength=32.0),\n",
       " _CampsiteEquipment(EquipmentName='VEHICLE', MaxLength=33.0),\n",
       " _CampsiteEquipment(EquipmentName='VEHICLE', MaxLength=35.0),\n",
       " _CampsiteEquipment(EquipmentName='VEHICLE', MaxLength=36.0),\n",
       " _CampsiteEquipment(EquipmentName='VEHICLE', MaxLength=37.0),\n",
       " _CampsiteEquipment(EquipmentName='VEHICLE', MaxLength=38.0),\n",
       " _CampsiteEquipment(EquipmentName='VEHICLE', MaxLength=40.0),\n",
       " _CampsiteEquipment(EquipmentName='VEHICLE', MaxLength=42.0)}"
      ]
     },
     "execution_count": 17,
     "metadata": {},
     "output_type": "execute_result"
    }
   ],
   "source": [
    "import itertools\n",
    "\n",
    "all_equipment = itertools.chain.from_iterable(\n",
    "    [campsite.PERMITTEDEQUIPMENT for campsite in related_campsites]\n",
    ")\n",
    "set(all_equipment)"
   ]
  },
  {
   "cell_type": "code",
   "execution_count": null,
   "id": "7cac6517-dc14-4132-83fb-8a96db612867",
   "metadata": {},
   "outputs": [],
   "source": [
    "response = rdg.make_request(\n",
    "    method=\"GET\",\n",
    "    url=\"https://www.recreation.gov/api/search/campsites\",\n",
    "    params=dict(start=0,\n",
    "               size=1000,\n",
    "               asset_id=232463,\n",
    "               campsite_equipment_name=\"Tent\",\n",
    "               include_non_site_specific_campsites=True)    \n",
    ")\n",
    "response"
   ]
  },
  {
   "cell_type": "code",
   "execution_count": null,
   "id": "b1186651-2b19-411e-9d17-760170d8b030",
   "metadata": {},
   "outputs": [],
   "source": [
    "campsites_response = response.json()"
   ]
  },
  {
   "cell_type": "code",
   "execution_count": null,
   "id": "d906a588-1195-45dc-8c6d-36774d55d427",
   "metadata": {},
   "outputs": [],
   "source": [
    "campsites_response.keys()"
   ]
  },
  {
   "cell_type": "code",
   "execution_count": null,
   "id": "d20dc470-0e1a-4a55-95af-bb8978ed7516",
   "metadata": {},
   "outputs": [],
   "source": [
    "from typing import Any, Dict, Optional\n",
    "\n",
    "class Attribute(CamplyModel):\n",
    "    attribute_category: str\n",
    "    attribute_id: int\n",
    "    attribute_name: str\n",
    "    attribute_value: Any\n",
    "\n",
    "\n",
    "class Equipment(CamplyModel):\n",
    "    equipment_name: str\n",
    "    max_length: float\n",
    "\n",
    "\n",
    "class RecDotGovCampsite(CamplyModel):\n",
    "    accessible: bool\n",
    "    asset_id: int\n",
    "    asset_type = str\n",
    "    attributes: List[Attribute]\n",
    "    average_rating: Optional[int]\n",
    "    campsite_id: int\n",
    "    campsite_reserve_type: str\n",
    "    city: Optional[str]\n",
    "    country_code: Optional[str]\n",
    "    fee_templates: Dict[str, Any]\n",
    "    latitude: Optional[float]\n",
    "    longitude: Optional[float]\n",
    "    loop: str\n",
    "    name: str\n",
    "    number_of_ratings = int\n",
    "    org_id: int\n",
    "    org_name: str\n",
    "    parent_asset_id: int\n",
    "    parent_asset_name: str\n",
    "    parent_asset_type: str\n",
    "    permitted_equipment: List[Equipment]\n",
    "    preview_image_url: Optional[str]\n",
    "    reservable: bool\n",
    "    state_code: Optional[str]\n",
    "    type: str\n",
    "    type_of_use: str\n",
    "\n",
    "\n",
    "class CampsiteSearchResponse(CamplyModel):\n",
    "    campsites: List[RecDotGovCampsite]\n",
    "    size: int\n",
    "    spelling_autocorrected: Any\n",
    "    start: int\n",
    "    total: int\n",
    "\n",
    "\n",
    "campsite_response_object = CampsiteSearchResponse(**campsites_response)"
   ]
  },
  {
   "cell_type": "code",
   "execution_count": null,
   "id": "03ed8f27-42ef-4f1d-8581-30e6256b2832",
   "metadata": {},
   "outputs": [],
   "source": [
    "campsite_response_object.spelling_autocorrected"
   ]
  },
  {
   "cell_type": "code",
   "execution_count": null,
   "id": "7d311fcf-db17-49d9-9dd1-4eafb98c0da2",
   "metadata": {},
   "outputs": [],
   "source": [
    "import itertools\n",
    "\n",
    "all_equipment = itertools.chain.from_iterable(\n",
    "    [campsite.permitted_equipment for campsite in campsite_response_object.campsites]\n",
    ")\n",
    "set(all_equipment)"
   ]
  },
  {
   "cell_type": "code",
   "execution_count": null,
   "id": "c7bb23c7-0518-4c8f-a63e-7c121fd27ce5",
   "metadata": {},
   "outputs": [],
   "source": [
    "print(campsite_response_object.campsites[0].dict())"
   ]
  },
  {
   "cell_type": "code",
   "execution_count": null,
   "id": "411e2501-5c8f-46c9-9fb9-8ac926bc8a8b",
   "metadata": {},
   "outputs": [],
   "source": []
  }
 ],
 "metadata": {
  "kernelspec": {
   "display_name": "Python 3 (ipykernel)",
   "language": "python",
   "name": "python3"
  },
  "language_info": {
   "codemirror_mode": {
    "name": "ipython",
    "version": 3
   },
   "file_extension": ".py",
   "mimetype": "text/x-python",
   "name": "python",
   "nbconvert_exporter": "python",
   "pygments_lexer": "ipython3",
   "version": "3.8.2"
  }
 },
 "nbformat": 4,
 "nbformat_minor": 5
}
