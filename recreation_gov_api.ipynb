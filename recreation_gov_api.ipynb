{
 "cells": [
  {
   "cell_type": "code",
   "execution_count": 1,
   "metadata": {
    "collapsed": true
   },
   "outputs": [
    {
     "name": "stderr",
     "output_type": "stream",
     "text": [
      "2021-04-21 00:11:28,345 [    INFO]: Logging ready [__main__]\n"
     ]
    }
   ],
   "source": [
    "from datetime import datetime\n",
    "from json import loads\n",
    "import logging\n",
    "from urllib import parse\n",
    "\n",
    "import requests\n",
    "\n",
    "logging.basicConfig(format=\"%(asctime)s [%(levelname)8s]: %(message)s [%(name)s]\",\n",
    "                        level=logging.INFO)\n",
    "logger = logging.getLogger(__name__)\n",
    "logger.info(\"Logging ready\")"
   ]
  },
  {
   "cell_type": "code",
   "execution_count": 2,
   "outputs": [
    {
     "data": {
      "text/plain": "232462"
     },
     "execution_count": 2,
     "metadata": {},
     "output_type": "execute_result"
    }
   ],
   "source": [
    "# campground_id = 232493 # FISH CREEK\n",
    "# campground_id = 232463 # RMNP\n",
    "campground_id = 232462 # RMNP, GLACIER BASIN\n",
    "campground_id"
   ],
   "metadata": {
    "collapsed": false,
    "pycharm": {
     "name": "#%%\n"
    }
   }
  },
  {
   "cell_type": "code",
   "execution_count": 7,
   "outputs": [
    {
     "data": {
      "text/plain": "'https://recreation.gov/api/camps/availability/campground/232462/month?start_date=2021-08-01T00%3A00%3A00.000Z'"
     },
     "execution_count": 7,
     "metadata": {},
     "output_type": "execute_result"
    }
   ],
   "source": [
    "search_date = datetime(year=2021, month=8, day=21)\n",
    "year = search_date.year\n",
    "month = str(search_date.month).zfill(2)\n",
    "start_date = f\"{year}-{month}-01T00:00:00.000Z\"\n",
    "query_string = parse.urlencode(query=dict(start_date=start_date))\n",
    "\n",
    "url_components = dict(scheme=\"https\",\n",
    "                      netloc=\"recreation.gov\",\n",
    "                      url=f\"api/camps/availability/campground/{campground_id}/month\",\n",
    "                      params=\"\", query=query_string, fragment=\"\")\n",
    "api_endpoint = parse.urlunparse(tuple(url_components.values()))\n",
    "api_endpoint"
   ],
   "metadata": {
    "collapsed": false,
    "pycharm": {
     "name": "#%%\n"
    }
   }
  },
  {
   "cell_type": "code",
   "execution_count": 4,
   "outputs": [
    {
     "data": {
      "text/plain": "<Response [200]>"
     },
     "execution_count": 4,
     "metadata": {},
     "output_type": "execute_result"
    }
   ],
   "source": [
    "web_browser_headers = {'User-Agent':\n",
    "                           'Mozilla/5.0 (X11; Linux x86_64; rv:10.0) Gecko/20100101 Firefox/10.0'}\n",
    "response = requests.get(url=api_endpoint,\n",
    "                        headers=web_browser_headers)\n",
    "# display(HTML(response.text))\n",
    "data = loads(response.content)\n",
    "response"
   ],
   "metadata": {
    "collapsed": false,
    "pycharm": {
     "name": "#%%\n"
    }
   }
  },
  {
   "cell_type": "code",
   "execution_count": 5,
   "outputs": [],
   "source": [
    "unavailable_strings: list = [\n",
    "    \"Reserved\",\n",
    "    \"Not Available\",\n",
    "    \"Not Reservable Management\"\n",
    "]\n"
   ],
   "metadata": {
    "collapsed": false,
    "pycharm": {
     "name": "#%%\n"
    }
   }
  },
  {
   "cell_type": "code",
   "execution_count": 6,
   "outputs": [
    {
     "name": "stdout",
     "output_type": "stream",
     "text": [
      "1434 loop C - C098 2021-08-26 00:00:00 Available\n",
      "1526 Loop B - B036 2021-08-31 00:00:00 Available\n",
      "1531 Loop B - B042 2021-08-31 00:00:00 Available\n",
      "1539 Loop B - B049 2021-08-31 00:00:00 Available\n",
      "1541 Loop B - B051 2021-08-31 00:00:00 Available\n",
      "1544 loop C - C065 2021-08-31 00:00:00 Available\n",
      "1557 loop C - C068 2021-08-26 00:00:00 Available\n",
      "1560 loop C - C071 2021-08-31 00:00:00 Available\n",
      "1565 loop C - C076 2021-08-26 00:00:00 Available\n",
      "1573 loop C - C085 2021-08-31 00:00:00 Available\n"
     ]
    }
   ],
   "source": [
    "campsites_string = \"campsites\"\n",
    "data_copy = data.copy()\n",
    "campsite_data_copy = data_copy[campsites_string]\n",
    "\n",
    "for campsite_id, campsite_data in campsite_data_copy.items():\n",
    "    campsite_data_availabilities = campsite_data[\"availabilities\"]\n",
    "    campsite_loop = campsite_data.get(\"loop\", \"Default Loop\")\n",
    "    site_name = campsite_data.get(\"site\", \"Default Site\")\n",
    "    campsite_location = \" - \".join([campsite_loop, site_name])\n",
    "    for date_string, availability_status in campsite_data_availabilities.items():\n",
    "        matching_date = datetime.strptime(date_string, \"%Y-%m-%dT%H:%M:%SZ\")\n",
    "        if availability_status not in unavailable_strings:\n",
    "            print(campsite_id, campsite_location, matching_date, availability_status)"
   ],
   "metadata": {
    "collapsed": false,
    "pycharm": {
     "name": "#%%\n"
    }
   }
  },
  {
   "cell_type": "code",
   "execution_count": 6,
   "outputs": [],
   "source": [],
   "metadata": {
    "collapsed": false,
    "pycharm": {
     "name": "#%%\n"
    }
   }
  },
  {
   "cell_type": "code",
   "execution_count": null,
   "outputs": [],
   "source": [],
   "metadata": {
    "collapsed": false,
    "pycharm": {
     "name": "#%%\n"
    }
   }
  }
 ],
 "metadata": {
  "kernelspec": {
   "display_name": "Python 3",
   "language": "python",
   "name": "python3"
  },
  "language_info": {
   "codemirror_mode": {
    "name": "ipython",
    "version": 2
   },
   "file_extension": ".py",
   "mimetype": "text/x-python",
   "name": "python",
   "nbconvert_exporter": "python",
   "pygments_lexer": "ipython2",
   "version": "2.7.6"
  }
 },
 "nbformat": 4,
 "nbformat_minor": 0
}