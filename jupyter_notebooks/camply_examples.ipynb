{
 "cells": [
  {
   "cell_type": "code",
   "execution_count": 47,
   "metadata": {
    "collapsed": true
   },
   "outputs": [],
   "source": [
    "from datetime import datetime\n",
    "import logging\n",
    "\n",
    "from camply.camping_search import CampingSearch\n",
    "from camply.containers import SearchWindow\n",
    "from camply.providers import RecreationDotGov\n",
    "\n",
    "logging.basicConfig(format=\"%(asctime)s [%(levelname)8s]: %(message)s\",\n",
    "                    level=logging.INFO)\n",
    "logger = logging.getLogger(__name__)"
   ]
  },
  {
   "cell_type": "code",
   "execution_count": 48,
   "outputs": [
    {
     "name": "stderr",
     "output_type": "stream",
     "text": [
      "2021-04-21 23:57:17,623 [    INFO]: 10 dates selected for search, ranging from 2021-07-02 to 2021-07-31 [camply.camping_search]\n",
      "2021-04-21 23:57:17,624 [    INFO]: Retrieving Facility Information for Recreation Area ID: 1074. [camply.providers.recreation_dot_gov.campsites]\n",
      "2021-04-21 23:57:19,280 [    INFO]: 32 camping facilities found [camply.providers.recreation_dot_gov.campsites]\n",
      "2021-04-21 23:57:19,281 [    INFO]: Searching Lower Billy Creek, Sierra National Forest, CA (232906) for availability: July, 2021 [camply.camping_search]\n",
      "2021-04-21 23:57:19,923 [    INFO]: \t🏕\t3 sites found in July [camply.providers.recreation_dot_gov.campsites]\n",
      "2021-04-21 23:57:21,927 [    INFO]: Searching Wishon Bass Lake, Sierra National Forest, CA (232911) for availability: July, 2021 [camply.camping_search]\n",
      "2021-04-21 23:57:23,115 [    INFO]: \t🏕\t78 sites found in July [camply.providers.recreation_dot_gov.campsites]\n",
      "2021-04-21 23:57:25,116 [    INFO]: Searching Summerdale Campground, Sierra National Forest, CA (233837) for availability: July, 2021 [camply.camping_search]\n",
      "2021-04-21 23:57:25,846 [    INFO]: \t🏕\t8 sites found in July [camply.providers.recreation_dot_gov.campsites]\n",
      "2021-04-21 23:57:27,847 [    INFO]: Searching Mammoth Pool, Sierra National Forest, CA (232817) for availability: July, 2021 [camply.camping_search]\n",
      "2021-04-21 23:57:28,329 [    INFO]: \t❌\t0 sites found in July [camply.providers.recreation_dot_gov.campsites]\n",
      "2021-04-21 23:57:30,332 [    INFO]: Searching Dirt Flat, Sierra National Forest, CA (233839) for availability: July, 2021 [camply.camping_search]\n",
      "2021-04-21 23:57:30,792 [    INFO]: \t❌\t0 sites found in July [camply.providers.recreation_dot_gov.campsites]\n",
      "2021-04-21 23:57:32,797 [    INFO]: Searching Catavee, Sierra National Forest, CA (232811) for availability: July, 2021 [camply.camping_search]\n",
      "2021-04-21 23:57:33,337 [    INFO]: \t❌\t0 sites found in July [camply.providers.recreation_dot_gov.campsites]\n",
      "2021-04-21 23:57:35,341 [    INFO]: Searching Dry Gulch, Sierra National Forest, CA (233842) for availability: July, 2021 [camply.camping_search]\n",
      "2021-04-21 23:57:35,968 [    INFO]: \t❌\t0 sites found in July [camply.providers.recreation_dot_gov.campsites]\n",
      "2021-04-21 23:57:37,973 [    INFO]: Searching College, Sierra National Forest, CA (232812) for availability: July, 2021 [camply.camping_search]\n",
      "2021-04-21 23:57:38,458 [    INFO]: \t🏕\t12 sites found in July [camply.providers.recreation_dot_gov.campsites]\n",
      "2021-04-21 23:57:40,462 [    INFO]: Searching Fish Creek (Ca), Sierra National Forest, CA (232820) for availability: July, 2021 [camply.camping_search]\n",
      "2021-04-21 23:57:40,899 [    INFO]: \t❌\t0 sites found in July [camply.providers.recreation_dot_gov.campsites]\n",
      "2021-04-21 23:57:42,903 [    INFO]: Searching Recreation Point, Sierra National Forest, CA (232910) for availability: July, 2021 [camply.camping_search]\n",
      "2021-04-21 23:57:43,361 [    INFO]: \t❌\t0 sites found in July [camply.providers.recreation_dot_gov.campsites]\n",
      "2021-04-21 23:57:45,362 [    INFO]: Searching Deer Creek, Sierra National Forest, CA (232813) for availability: July, 2021 [camply.camping_search]\n",
      "2021-04-21 23:57:46,220 [    INFO]: \t🏕\t3 sites found in July [camply.providers.recreation_dot_gov.campsites]\n",
      "2021-04-21 23:57:48,222 [    INFO]: Searching Dinkey Creek, Sierra National Forest, CA (232136) for availability: July, 2021 [camply.camping_search]\n",
      "2021-04-21 23:57:49,842 [    INFO]: \t🏕\t530 sites found in July [camply.providers.recreation_dot_gov.campsites]\n",
      "2021-04-21 23:57:51,844 [    INFO]: Searching Mono Creek, Sierra National Forest, CA (232804) for availability: July, 2021 [camply.camping_search]\n",
      "2021-04-21 23:57:52,281 [    INFO]: \t🏕\t101 sites found in July [camply.providers.recreation_dot_gov.campsites]\n",
      "2021-04-21 23:57:54,285 [    INFO]: Searching Rancheria, Sierra National Forest, CA (232815) for availability: July, 2021 [camply.camping_search]\n",
      "2021-04-21 23:57:55,427 [    INFO]: \t❌\t0 sites found in July [camply.providers.recreation_dot_gov.campsites]\n",
      "2021-04-21 23:57:57,428 [    INFO]: Searching Sweetwater, Sierra National Forest, CA (232877) for availability: July, 2021 [camply.camping_search]\n",
      "2021-04-21 23:57:57,860 [    INFO]: \t❌\t0 sites found in July [camply.providers.recreation_dot_gov.campsites]\n",
      "2021-04-21 23:57:59,864 [    INFO]: Searching Crane Valley, Sierra National Forest, CA (232909) for availability: July, 2021 [camply.camping_search]\n",
      "2021-04-21 23:58:00,339 [    INFO]: \t❌\t0 sites found in July [camply.providers.recreation_dot_gov.campsites]\n",
      "2021-04-21 23:58:02,342 [    INFO]: Searching Lupine, Sierra National Forest, CA (232802) for availability: July, 2021 [camply.camping_search]\n",
      "2021-04-21 23:58:03,126 [    INFO]: \t🏕\t232 sites found in July [camply.providers.recreation_dot_gov.campsites]\n",
      "2021-04-21 23:58:05,128 [    INFO]: Searching Kelty Meadow, Sierra National Forest, CA (232880) for availability: July, 2021 [camply.camping_search]\n",
      "2021-04-21 23:58:05,551 [    INFO]: \t🏕\t34 sites found in July [camply.providers.recreation_dot_gov.campsites]\n",
      "2021-04-21 23:58:07,554 [    INFO]: Searching Chilkoot, Sierra National Forest, CA (232882) for availability: July, 2021 [camply.camping_search]\n",
      "2021-04-21 23:58:08,052 [    INFO]: \t🏕\t112 sites found in July [camply.providers.recreation_dot_gov.campsites]\n",
      "2021-04-21 23:58:10,055 [    INFO]: Searching Dorabelle Campground, Sierra National Forest, CA (232821) for availability: July, 2021 [camply.camping_search]\n",
      "2021-04-21 23:58:10,895 [    INFO]: \t🏕\t90 sites found in July [camply.providers.recreation_dot_gov.campsites]\n",
      "2021-04-21 23:58:12,900 [    INFO]: Searching Forks Campground (Sierra), Sierra National Forest, CA (232878) for availability: July, 2021 [camply.camping_search]\n",
      "2021-04-21 23:58:13,483 [    INFO]: \t🏕\t84 sites found in July [camply.providers.recreation_dot_gov.campsites]\n",
      "2021-04-21 23:58:15,489 [    INFO]: Searching Texas Flats, Sierra National Forest, CA (232879) for availability: July, 2021 [camply.camping_search]\n",
      "2021-04-21 23:58:16,211 [    INFO]: \t❌\t0 sites found in July [camply.providers.recreation_dot_gov.campsites]\n",
      "2021-04-21 23:58:18,213 [    INFO]: Searching Mono Hot Springs, Sierra National Forest, CA (232805) for availability: July, 2021 [camply.camping_search]\n",
      "2021-04-21 23:58:18,788 [    INFO]: \t❌\t0 sites found in July [camply.providers.recreation_dot_gov.campsites]\n",
      "2021-04-21 23:58:20,789 [    INFO]: Searching Vermillion, Sierra National Forest, CA (232806) for availability: July, 2021 [camply.camping_search]\n",
      "2021-04-21 23:58:21,417 [    INFO]: \t🏕\t511 sites found in July [camply.providers.recreation_dot_gov.campsites]\n",
      "2021-04-21 23:58:23,421 [    INFO]: Searching Upper Billy Creek Cg, Sierra National Forest, CA (232810) for availability: July, 2021 [camply.camping_search]\n",
      "2021-04-21 23:58:24,110 [    INFO]: \t❌\t0 sites found in July [camply.providers.recreation_dot_gov.campsites]\n",
      "2021-04-21 23:58:26,114 [    INFO]: Searching Badger Flats Group, Sierra National Forest, CA (232808) for availability: July, 2021 [camply.camping_search]\n",
      "2021-04-21 23:58:26,509 [    INFO]: \t❌\t0 sites found in July [camply.providers.recreation_dot_gov.campsites]\n",
      "2021-04-21 23:58:28,515 [    INFO]: Searching Kinnikinnick, Sierra National Forest, CA (232814) for availability: July, 2021 [camply.camping_search]\n",
      "2021-04-21 23:58:29,109 [    INFO]: \t❌\t0 sites found in July [camply.providers.recreation_dot_gov.campsites]\n",
      "2021-04-21 23:58:31,113 [    INFO]: Searching Rock Creek (Sierra Natl Fores), Sierra National Forest, CA (232818) for availability: July, 2021 [camply.camping_search]\n",
      "2021-04-21 23:58:31,950 [    INFO]: \t❌\t0 sites found in July [camply.providers.recreation_dot_gov.campsites]\n",
      "2021-04-21 23:58:33,955 [    INFO]: Searching Spring Cove, Sierra National Forest, CA (232801) for availability: July, 2021 [camply.camping_search]\n",
      "2021-04-21 23:58:35,078 [    INFO]: \t🏕\t251 sites found in July [camply.providers.recreation_dot_gov.campsites]\n",
      "2021-04-21 23:58:37,080 [    INFO]: Searching Cedar Bluff, Sierra National Forest, CA (232912) for availability: July, 2021 [camply.camping_search]\n",
      "2021-04-21 23:58:37,783 [    INFO]: \t🏕\t142 sites found in July [camply.providers.recreation_dot_gov.campsites]\n",
      "2021-04-21 23:58:39,787 [    INFO]: Searching Soquel Campground, Sierra National Forest, CA (232881) for availability: July, 2021 [camply.camping_search]\n",
      "2021-04-21 23:58:40,220 [    INFO]: \t🏕\t6 sites found in July [camply.providers.recreation_dot_gov.campsites]\n",
      "2021-04-21 23:58:42,222 [    INFO]: Searching Jackass Meadow, Sierra National Forest, CA (232803) for availability: July, 2021 [camply.camping_search]\n",
      "2021-04-21 23:58:42,869 [    INFO]: \t❌\t0 sites found in July [camply.providers.recreation_dot_gov.campsites]\n",
      "2021-04-21 23:58:42,870 [    INFO]: 🏕🏕🏕🏕🏕  244 Campsites matching search preferences found [camply.camping_search]\n"
     ]
    }
   ],
   "source": [
    "search_window_1 = SearchWindow(start_date=datetime(year=2021, month=7, day=1),\n",
    "                               end_date=datetime(year=2021, month=7, day=31))\n",
    "rec_dot_gov = RecreationDotGov()\n",
    "camping_finder = CampingSearch(provider=rec_dot_gov,\n",
    "                               search_window=search_window_1,\n",
    "                               recreation_area=1074,\n",
    "                               weekends_only=True)\n",
    "matches = camping_finder.search_matching_campsites_available()"
   ],
   "metadata": {
    "collapsed": false,
    "pycharm": {
     "name": "#%%\n"
    }
   }
  },
  {
   "cell_type": "code",
   "execution_count": 49,
   "outputs": [
    {
     "data": {
      "text/plain": "    campsite_id booking_date campsite_site_name      campsite_loop_name  \\\n0         88031   2021-07-17                032        WISHON BASS LAKE   \n1         88165   2021-07-02                009        WISHON BASS LAKE   \n2         88194   2021-07-09                013        WISHON BASS LAKE   \n3         88309   2021-07-09                041        WISHON BASS LAKE   \n4         88412   2021-07-17                023        WISHON BASS LAKE   \n..          ...          ...                ...                     ...   \n239       66248   2021-07-09                017                   08-17   \n240       66310   2021-07-30                022                   18-22   \n241       66677   2021-07-17                018                   18-22   \n242       66821   2021-07-31                010                   08-17   \n243      215321   2021-07-16             FS1-30  AREA SOQUEL CAMPGROUND   \n\n            campsite_type campsite_occupancy campsite_use_type  \\\n0    STANDARD NONELECTRIC            (0, 12)         Overnight   \n1    STANDARD NONELECTRIC             (0, 6)         Overnight   \n2    STANDARD NONELECTRIC            (0, 12)         Overnight   \n3    STANDARD NONELECTRIC             (0, 6)         Overnight   \n4    STANDARD NONELECTRIC             (0, 6)         Overnight   \n..                    ...                ...               ...   \n239  STANDARD NONELECTRIC            (1, 10)         Overnight   \n240  STANDARD NONELECTRIC            (1, 10)         Overnight   \n241  STANDARD NONELECTRIC            (1, 10)         Overnight   \n242  STANDARD NONELECTRIC            (1, 10)         Overnight   \n243  STANDARD NONELECTRIC             (1, 6)         Overnight   \n\n    availability_status             recreation_area recreation_area_id  \\\n0             Available  Sierra National Forest, CA               1074   \n1             Available  Sierra National Forest, CA               1074   \n2             Available  Sierra National Forest, CA               1074   \n3             Available  Sierra National Forest, CA               1074   \n4             Available  Sierra National Forest, CA               1074   \n..                  ...                         ...                ...   \n239           Available  Sierra National Forest, CA               1074   \n240           Available  Sierra National Forest, CA               1074   \n241           Available  Sierra National Forest, CA               1074   \n242           Available  Sierra National Forest, CA               1074   \n243           Available  Sierra National Forest, CA               1074   \n\n         facility_name facility_id  \\\n0     Wishon Bass Lake      232911   \n1     Wishon Bass Lake      232911   \n2     Wishon Bass Lake      232911   \n3     Wishon Bass Lake      232911   \n4     Wishon Bass Lake      232911   \n..                 ...         ...   \n239        Cedar Bluff      232912   \n240        Cedar Bluff      232912   \n241        Cedar Bluff      232912   \n242        Cedar Bluff      232912   \n243  Soquel Campground      232881   \n\n                                           booking_url  \n0    https://www.recreation.gov/camping/campsites/8...  \n1    https://www.recreation.gov/camping/campsites/8...  \n2    https://www.recreation.gov/camping/campsites/8...  \n3    https://www.recreation.gov/camping/campsites/8...  \n4    https://www.recreation.gov/camping/campsites/8...  \n..                                                 ...  \n239  https://www.recreation.gov/camping/campsites/6...  \n240  https://www.recreation.gov/camping/campsites/6...  \n241  https://www.recreation.gov/camping/campsites/6...  \n242  https://www.recreation.gov/camping/campsites/6...  \n243  https://www.recreation.gov/camping/campsites/2...  \n\n[244 rows x 13 columns]",
      "text/html": "<div>\n<style scoped>\n    .dataframe tbody tr th:only-of-type {\n        vertical-align: middle;\n    }\n\n    .dataframe tbody tr th {\n        vertical-align: top;\n    }\n\n    .dataframe thead th {\n        text-align: right;\n    }\n</style>\n<table border=\"1\" class=\"dataframe\">\n  <thead>\n    <tr style=\"text-align: right;\">\n      <th></th>\n      <th>campsite_id</th>\n      <th>booking_date</th>\n      <th>campsite_site_name</th>\n      <th>campsite_loop_name</th>\n      <th>campsite_type</th>\n      <th>campsite_occupancy</th>\n      <th>campsite_use_type</th>\n      <th>availability_status</th>\n      <th>recreation_area</th>\n      <th>recreation_area_id</th>\n      <th>facility_name</th>\n      <th>facility_id</th>\n      <th>booking_url</th>\n    </tr>\n  </thead>\n  <tbody>\n    <tr>\n      <th>0</th>\n      <td>88031</td>\n      <td>2021-07-17</td>\n      <td>032</td>\n      <td>WISHON BASS LAKE</td>\n      <td>STANDARD NONELECTRIC</td>\n      <td>(0, 12)</td>\n      <td>Overnight</td>\n      <td>Available</td>\n      <td>Sierra National Forest, CA</td>\n      <td>1074</td>\n      <td>Wishon Bass Lake</td>\n      <td>232911</td>\n      <td>https://www.recreation.gov/camping/campsites/8...</td>\n    </tr>\n    <tr>\n      <th>1</th>\n      <td>88165</td>\n      <td>2021-07-02</td>\n      <td>009</td>\n      <td>WISHON BASS LAKE</td>\n      <td>STANDARD NONELECTRIC</td>\n      <td>(0, 6)</td>\n      <td>Overnight</td>\n      <td>Available</td>\n      <td>Sierra National Forest, CA</td>\n      <td>1074</td>\n      <td>Wishon Bass Lake</td>\n      <td>232911</td>\n      <td>https://www.recreation.gov/camping/campsites/8...</td>\n    </tr>\n    <tr>\n      <th>2</th>\n      <td>88194</td>\n      <td>2021-07-09</td>\n      <td>013</td>\n      <td>WISHON BASS LAKE</td>\n      <td>STANDARD NONELECTRIC</td>\n      <td>(0, 12)</td>\n      <td>Overnight</td>\n      <td>Available</td>\n      <td>Sierra National Forest, CA</td>\n      <td>1074</td>\n      <td>Wishon Bass Lake</td>\n      <td>232911</td>\n      <td>https://www.recreation.gov/camping/campsites/8...</td>\n    </tr>\n    <tr>\n      <th>3</th>\n      <td>88309</td>\n      <td>2021-07-09</td>\n      <td>041</td>\n      <td>WISHON BASS LAKE</td>\n      <td>STANDARD NONELECTRIC</td>\n      <td>(0, 6)</td>\n      <td>Overnight</td>\n      <td>Available</td>\n      <td>Sierra National Forest, CA</td>\n      <td>1074</td>\n      <td>Wishon Bass Lake</td>\n      <td>232911</td>\n      <td>https://www.recreation.gov/camping/campsites/8...</td>\n    </tr>\n    <tr>\n      <th>4</th>\n      <td>88412</td>\n      <td>2021-07-17</td>\n      <td>023</td>\n      <td>WISHON BASS LAKE</td>\n      <td>STANDARD NONELECTRIC</td>\n      <td>(0, 6)</td>\n      <td>Overnight</td>\n      <td>Available</td>\n      <td>Sierra National Forest, CA</td>\n      <td>1074</td>\n      <td>Wishon Bass Lake</td>\n      <td>232911</td>\n      <td>https://www.recreation.gov/camping/campsites/8...</td>\n    </tr>\n    <tr>\n      <th>...</th>\n      <td>...</td>\n      <td>...</td>\n      <td>...</td>\n      <td>...</td>\n      <td>...</td>\n      <td>...</td>\n      <td>...</td>\n      <td>...</td>\n      <td>...</td>\n      <td>...</td>\n      <td>...</td>\n      <td>...</td>\n      <td>...</td>\n    </tr>\n    <tr>\n      <th>239</th>\n      <td>66248</td>\n      <td>2021-07-09</td>\n      <td>017</td>\n      <td>08-17</td>\n      <td>STANDARD NONELECTRIC</td>\n      <td>(1, 10)</td>\n      <td>Overnight</td>\n      <td>Available</td>\n      <td>Sierra National Forest, CA</td>\n      <td>1074</td>\n      <td>Cedar Bluff</td>\n      <td>232912</td>\n      <td>https://www.recreation.gov/camping/campsites/6...</td>\n    </tr>\n    <tr>\n      <th>240</th>\n      <td>66310</td>\n      <td>2021-07-30</td>\n      <td>022</td>\n      <td>18-22</td>\n      <td>STANDARD NONELECTRIC</td>\n      <td>(1, 10)</td>\n      <td>Overnight</td>\n      <td>Available</td>\n      <td>Sierra National Forest, CA</td>\n      <td>1074</td>\n      <td>Cedar Bluff</td>\n      <td>232912</td>\n      <td>https://www.recreation.gov/camping/campsites/6...</td>\n    </tr>\n    <tr>\n      <th>241</th>\n      <td>66677</td>\n      <td>2021-07-17</td>\n      <td>018</td>\n      <td>18-22</td>\n      <td>STANDARD NONELECTRIC</td>\n      <td>(1, 10)</td>\n      <td>Overnight</td>\n      <td>Available</td>\n      <td>Sierra National Forest, CA</td>\n      <td>1074</td>\n      <td>Cedar Bluff</td>\n      <td>232912</td>\n      <td>https://www.recreation.gov/camping/campsites/6...</td>\n    </tr>\n    <tr>\n      <th>242</th>\n      <td>66821</td>\n      <td>2021-07-31</td>\n      <td>010</td>\n      <td>08-17</td>\n      <td>STANDARD NONELECTRIC</td>\n      <td>(1, 10)</td>\n      <td>Overnight</td>\n      <td>Available</td>\n      <td>Sierra National Forest, CA</td>\n      <td>1074</td>\n      <td>Cedar Bluff</td>\n      <td>232912</td>\n      <td>https://www.recreation.gov/camping/campsites/6...</td>\n    </tr>\n    <tr>\n      <th>243</th>\n      <td>215321</td>\n      <td>2021-07-16</td>\n      <td>FS1-30</td>\n      <td>AREA SOQUEL CAMPGROUND</td>\n      <td>STANDARD NONELECTRIC</td>\n      <td>(1, 6)</td>\n      <td>Overnight</td>\n      <td>Available</td>\n      <td>Sierra National Forest, CA</td>\n      <td>1074</td>\n      <td>Soquel Campground</td>\n      <td>232881</td>\n      <td>https://www.recreation.gov/camping/campsites/2...</td>\n    </tr>\n  </tbody>\n</table>\n<p>244 rows × 13 columns</p>\n</div>"
     },
     "execution_count": 49,
     "metadata": {},
     "output_type": "execute_result"
    }
   ],
   "source": [
    "df = camping_finder._assemble_availabilities(matches)\n",
    "\n",
    "df"
   ],
   "metadata": {
    "collapsed": false,
    "pycharm": {
     "name": "#%%\n"
    }
   }
  },
  {
   "cell_type": "code",
   "execution_count": 50,
   "outputs": [
    {
     "name": "stderr",
     "output_type": "stream",
     "text": [
      "2021-04-21 23:58:50,498 [    INFO]: 📅 Fri, July 02 🏕 19 sites [__main__]\n",
      "2021-04-21 23:58:50,503 [    INFO]: \t⛺️ Sierra National Forest, CA 🌲 Cedar Bluff: 🏔 2 sites [__main__]\n",
      "2021-04-21 23:58:50,504 [    INFO]: \t⛺️ Sierra National Forest, CA 🌲 Chilkoot: 🏔 4 sites [__main__]\n",
      "2021-04-21 23:58:50,504 [    INFO]: \t⛺️ Sierra National Forest, CA 🌲 Lupine: 🏔 1 sites [__main__]\n",
      "2021-04-21 23:58:50,505 [    INFO]: \t⛺️ Sierra National Forest, CA 🌲 Mono Creek: 🏔 1 sites [__main__]\n",
      "2021-04-21 23:58:50,506 [    INFO]: \t⛺️ Sierra National Forest, CA 🌲 Vermillion: 🏔 10 sites [__main__]\n",
      "2021-04-21 23:58:50,507 [    INFO]: \t⛺️ Sierra National Forest, CA 🌲 Wishon Bass Lake: 🏔 1 sites [__main__]\n",
      "2021-04-21 23:58:50,507 [    INFO]: 📅 Fri, July 09 🏕 32 sites [__main__]\n",
      "2021-04-21 23:58:50,510 [    INFO]: \t⛺️ Sierra National Forest, CA 🌲 Cedar Bluff: 🏔 2 sites [__main__]\n",
      "2021-04-21 23:58:50,511 [    INFO]: \t⛺️ Sierra National Forest, CA 🌲 Dinkey Creek: 🏔 11 sites [__main__]\n",
      "2021-04-21 23:58:50,511 [    INFO]: \t⛺️ Sierra National Forest, CA 🌲 Dorabelle Campground: 🏔 3 sites [__main__]\n",
      "2021-04-21 23:58:50,512 [    INFO]: \t⛺️ Sierra National Forest, CA 🌲 Forks Campground (Sierra): 🏔 1 sites [__main__]\n",
      "2021-04-21 23:58:50,512 [    INFO]: \t⛺️ Sierra National Forest, CA 🌲 Spring Cove: 🏔 2 sites [__main__]\n",
      "2021-04-21 23:58:50,513 [    INFO]: \t⛺️ Sierra National Forest, CA 🌲 Vermillion: 🏔 9 sites [__main__]\n",
      "2021-04-21 23:58:50,514 [    INFO]: \t⛺️ Sierra National Forest, CA 🌲 Wishon Bass Lake: 🏔 4 sites [__main__]\n",
      "2021-04-21 23:58:50,514 [    INFO]: 📅 Sat, July 10 🏕 12 sites [__main__]\n",
      "2021-04-21 23:58:50,516 [    INFO]: \t⛺️ Sierra National Forest, CA 🌲 Dorabelle Campground: 🏔 1 sites [__main__]\n",
      "2021-04-21 23:58:50,517 [    INFO]: \t⛺️ Sierra National Forest, CA 🌲 Kelty Meadow: 🏔 1 sites [__main__]\n",
      "2021-04-21 23:58:50,518 [    INFO]: \t⛺️ Sierra National Forest, CA 🌲 Mono Creek: 🏔 1 sites [__main__]\n",
      "2021-04-21 23:58:50,518 [    INFO]: \t⛺️ Sierra National Forest, CA 🌲 Vermillion: 🏔 9 sites [__main__]\n",
      "2021-04-21 23:58:50,519 [    INFO]: 📅 Fri, July 16 🏕 22 sites [__main__]\n",
      "2021-04-21 23:58:50,521 [    INFO]: \t⛺️ Sierra National Forest, CA 🌲 Kelty Meadow: 🏔 1 sites [__main__]\n",
      "2021-04-21 23:58:50,522 [    INFO]: \t⛺️ Sierra National Forest, CA 🌲 Mono Creek: 🏔 1 sites [__main__]\n",
      "2021-04-21 23:58:50,522 [    INFO]: \t⛺️ Sierra National Forest, CA 🌲 Soquel Campground: 🏔 1 sites [__main__]\n",
      "2021-04-21 23:58:50,523 [    INFO]: \t⛺️ Sierra National Forest, CA 🌲 Spring Cove: 🏔 1 sites [__main__]\n",
      "2021-04-21 23:58:50,523 [    INFO]: \t⛺️ Sierra National Forest, CA 🌲 Vermillion: 🏔 18 sites [__main__]\n",
      "2021-04-21 23:58:50,524 [    INFO]: 📅 Sat, July 17 🏕 28 sites [__main__]\n",
      "2021-04-21 23:58:50,526 [    INFO]: \t⛺️ Sierra National Forest, CA 🌲 Cedar Bluff: 🏔 1 sites [__main__]\n",
      "2021-04-21 23:58:50,526 [    INFO]: \t⛺️ Sierra National Forest, CA 🌲 Forks Campground (Sierra): 🏔 1 sites [__main__]\n",
      "2021-04-21 23:58:50,527 [    INFO]: \t⛺️ Sierra National Forest, CA 🌲 Mono Creek: 🏔 1 sites [__main__]\n",
      "2021-04-21 23:58:50,528 [    INFO]: \t⛺️ Sierra National Forest, CA 🌲 Spring Cove: 🏔 1 sites [__main__]\n",
      "2021-04-21 23:58:50,528 [    INFO]: \t⛺️ Sierra National Forest, CA 🌲 Vermillion: 🏔 18 sites [__main__]\n",
      "2021-04-21 23:58:50,529 [    INFO]: \t⛺️ Sierra National Forest, CA 🌲 Wishon Bass Lake: 🏔 6 sites [__main__]\n",
      "2021-04-21 23:58:50,529 [    INFO]: 📅 Fri, July 23 🏕 36 sites [__main__]\n",
      "2021-04-21 23:58:50,532 [    INFO]: \t⛺️ Sierra National Forest, CA 🌲 Cedar Bluff: 🏔 1 sites [__main__]\n",
      "2021-04-21 23:58:50,532 [    INFO]: \t⛺️ Sierra National Forest, CA 🌲 Dinkey Creek: 🏔 14 sites [__main__]\n",
      "2021-04-21 23:58:50,533 [    INFO]: \t⛺️ Sierra National Forest, CA 🌲 Dorabelle Campground: 🏔 1 sites [__main__]\n",
      "2021-04-21 23:58:50,533 [    INFO]: \t⛺️ Sierra National Forest, CA 🌲 Forks Campground (Sierra): 🏔 1 sites [__main__]\n",
      "2021-04-21 23:58:50,534 [    INFO]: \t⛺️ Sierra National Forest, CA 🌲 Mono Creek: 🏔 2 sites [__main__]\n",
      "2021-04-21 23:58:50,534 [    INFO]: \t⛺️ Sierra National Forest, CA 🌲 Spring Cove: 🏔 6 sites [__main__]\n",
      "2021-04-21 23:58:50,535 [    INFO]: \t⛺️ Sierra National Forest, CA 🌲 Vermillion: 🏔 10 sites [__main__]\n",
      "2021-04-21 23:58:50,535 [    INFO]: \t⛺️ Sierra National Forest, CA 🌲 Wishon Bass Lake: 🏔 1 sites [__main__]\n",
      "2021-04-21 23:58:50,536 [    INFO]: 📅 Sat, July 24 🏕 14 sites [__main__]\n",
      "2021-04-21 23:58:50,538 [    INFO]: \t⛺️ Sierra National Forest, CA 🌲 Chilkoot: 🏔 1 sites [__main__]\n",
      "2021-04-21 23:58:50,539 [    INFO]: \t⛺️ Sierra National Forest, CA 🌲 Kelty Meadow: 🏔 1 sites [__main__]\n",
      "2021-04-21 23:58:50,539 [    INFO]: \t⛺️ Sierra National Forest, CA 🌲 Mono Creek: 🏔 2 sites [__main__]\n",
      "2021-04-21 23:58:50,540 [    INFO]: \t⛺️ Sierra National Forest, CA 🌲 Spring Cove: 🏔 2 sites [__main__]\n",
      "2021-04-21 23:58:50,540 [    INFO]: \t⛺️ Sierra National Forest, CA 🌲 Vermillion: 🏔 8 sites [__main__]\n",
      "2021-04-21 23:58:50,541 [    INFO]: 📅 Fri, July 30 🏕 34 sites [__main__]\n",
      "2021-04-21 23:58:50,543 [    INFO]: \t⛺️ Sierra National Forest, CA 🌲 Cedar Bluff: 🏔 1 sites [__main__]\n",
      "2021-04-21 23:58:50,544 [    INFO]: \t⛺️ Sierra National Forest, CA 🌲 Chilkoot: 🏔 6 sites [__main__]\n",
      "2021-04-21 23:58:50,544 [    INFO]: \t⛺️ Sierra National Forest, CA 🌲 Dorabelle Campground: 🏔 3 sites [__main__]\n",
      "2021-04-21 23:58:50,545 [    INFO]: \t⛺️ Sierra National Forest, CA 🌲 Mono Creek: 🏔 3 sites [__main__]\n",
      "2021-04-21 23:58:50,545 [    INFO]: \t⛺️ Sierra National Forest, CA 🌲 Spring Cove: 🏔 1 sites [__main__]\n",
      "2021-04-21 23:58:50,546 [    INFO]: \t⛺️ Sierra National Forest, CA 🌲 Vermillion: 🏔 20 sites [__main__]\n",
      "2021-04-21 23:58:50,547 [    INFO]: 📅 Sat, July 31 🏕 47 sites [__main__]\n",
      "2021-04-21 23:58:50,548 [    INFO]: \t⛺️ Sierra National Forest, CA 🌲 Cedar Bluff: 🏔 3 sites [__main__]\n",
      "2021-04-21 23:58:50,549 [    INFO]: \t⛺️ Sierra National Forest, CA 🌲 Chilkoot: 🏔 6 sites [__main__]\n",
      "2021-04-21 23:58:50,550 [    INFO]: \t⛺️ Sierra National Forest, CA 🌲 College: 🏔 2 sites [__main__]\n",
      "2021-04-21 23:58:50,550 [    INFO]: \t⛺️ Sierra National Forest, CA 🌲 Dinkey Creek: 🏔 16 sites [__main__]\n",
      "2021-04-21 23:58:50,551 [    INFO]: \t⛺️ Sierra National Forest, CA 🌲 Mono Creek: 🏔 3 sites [__main__]\n",
      "2021-04-21 23:58:50,551 [    INFO]: \t⛺️ Sierra National Forest, CA 🌲 Spring Cove: 🏔 1 sites [__main__]\n",
      "2021-04-21 23:58:50,552 [    INFO]: \t⛺️ Sierra National Forest, CA 🌲 Vermillion: 🏔 16 sites [__main__]\n"
     ]
    }
   ],
   "source": [
    "for booking_date, available_sites in df.groupby(\"booking_date\"):\n",
    "    logger.info(f\"📅 {booking_date.strftime('%a, %B %d')} \"\n",
    "                f\"🏕 {len(available_sites)} sites\")\n",
    "    for location_tuple, campground_availability in \\\n",
    "            available_sites.groupby([\"recreation_area\", \"facility_name\"]):\n",
    "        logger.info(f\"\\t⛺️ {' 🌲 '.join(location_tuple)}: 🏔 {len(campground_availability)} sites\")"
   ],
   "metadata": {
    "collapsed": false,
    "pycharm": {
     "name": "#%%\n"
    }
   }
  },
  {
   "cell_type": "code",
   "execution_count": null,
   "outputs": [],
   "source": [],
   "metadata": {
    "collapsed": false,
    "pycharm": {
     "name": "#%%\n"
    }
   }
  }
 ],
 "metadata": {
  "kernelspec": {
   "display_name": "Python 3",
   "language": "python",
   "name": "python3"
  },
  "language_info": {
   "codemirror_mode": {
    "name": "ipython",
    "version": 2
   },
   "file_extension": ".py",
   "mimetype": "text/x-python",
   "name": "python",
   "nbconvert_exporter": "python",
   "pygments_lexer": "ipython2",
   "version": "2.7.6"
  }
 },
 "nbformat": 4,
 "nbformat_minor": 0
}